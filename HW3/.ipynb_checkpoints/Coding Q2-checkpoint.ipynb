{
 "cells": [
  {
   "cell_type": "code",
   "execution_count": 1,
   "metadata": {},
   "outputs": [
    {
     "name": "stdout",
     "output_type": "stream",
     "text": [
      "Automatic pdb calling has been turned ON\n"
     ]
    },
    {
     "data": {
      "text/plain": [
       "<module 'opt_trust_region' from '/Users/jingyuanwang/GitHub/IEMS450_HW/HW3/functions/opt_trust_region.py'>"
      ]
     },
     "execution_count": 1,
     "metadata": {},
     "output_type": "execute_result"
    }
   ],
   "source": [
    "import numpy as np\n",
    "import os,sys,inspect\n",
    "import importlib\n",
    "%pdb on\n",
    "\n",
    "# (1) find the path\n",
    "dirpath = os.getcwd()\n",
    "i = 0\n",
    "while(os.path.basename(dirpath) != \"IEMS450_HW\") and i <10:\n",
    "    dirpath = os.path.dirname(dirpath) \n",
    "    i = i + 1\n",
    "targetdir = dirpath + '/HW3/functions'\n",
    "if targetdir not in sys.path:\n",
    "    sys.path.insert(0,targetdir)\n",
    "\n",
    "import objective_function as obj\n",
    "importlib.reload(obj)\n",
    "import opt_trust_region as opt_tr\n",
    "importlib.reload(opt_tr)"
   ]
  },
  {
   "cell_type": "code",
   "execution_count": 2,
   "metadata": {},
   "outputs": [],
   "source": [
    "n=1000\n",
    "f=obj.tridiagonal_function(n)"
   ]
  },
  {
   "cell_type": "code",
   "execution_count": 3,
   "metadata": {},
   "outputs": [],
   "source": [
    "model = opt_tr.trust_region(f, eta=0.1, delta_hat= 100)"
   ]
  },
  {
   "cell_type": "code",
   "execution_count": 4,
   "metadata": {},
   "outputs": [
    {
     "name": "stdout",
     "output_type": "stream",
     "text": [
      "===========================================\n",
      "trust region newton-CG\n",
      "-------------------------------------------\n",
      " iter            f       ||p_k||          eps     #CG    ||grad_f|| \n",
      "   0     4.9950E+02    0.0000E+00   0.0000E+00      0    6.3340E+01\n",
      "   1     4.3913E+02    1.0000E+00   1.9002E+01      0    5.7474E+01\n",
      "   2     3.8442E+02    1.0000E+00   1.7242E+01      0    5.2003E+01\n",
      "   3     3.3500E+02    1.0000E+00   1.5601E+01      0    4.6898E+01\n",
      "   4     2.9051E+02    1.0000E+00   1.4069E+01      0    4.2141E+01\n",
      "   5     2.5061E+02    1.0000E+00   1.2642E+01      0    3.7718E+01\n",
      "   6     2.1497E+02    1.0000E+00   1.1316E+01      0    3.3617E+01\n",
      "   7     1.8327E+02    1.0000E+00   1.0085E+01      0    2.9825E+01\n",
      "   8     1.5522E+02    1.0000E+00   8.9476E+00      0    2.6330E+01\n",
      "   9     1.0889E+02    2.0000E+00   7.8990E+00      0    2.0181E+01\n",
      "  10     7.3801E+01    2.0000E+00   6.0543E+00      0    1.5073E+01\n",
      "  11     2.9599E+01    4.0000E+00   4.5219E+00      0    7.5938E+00\n",
      "  12     9.0443E+00    4.0000E+00   2.2781E+00      0    3.1203E+00\n",
      "  13     1.7842E+00    3.8663E+00   9.3609E-01      1    9.2443E-01\n",
      "  14     3.5561E-01    2.5678E+00   2.7733E-01      1    2.8122E-01\n",
      "  15     7.0938E-02    1.7117E+00   8.4365E-02      2    8.3173E-02\n",
      "  16     1.4455E-02    1.1367E+00   2.3987E-02      3    2.6656E-02\n",
      "  17     2.8705E-03    7.6887E-01   4.3521E-03      4    7.8217E-03\n",
      "  18     5.7001E-04    5.1312E-01   6.9176E-04      5    2.3263E-03\n",
      "  19     1.1283E-04    3.4297E-01   1.1220E-04      6    6.8827E-04\n",
      "  20     2.2295E-05    2.2899E-01   1.8057E-05      7    2.0404E-04\n",
      "  21     4.4048E-06    1.5269E-01   2.9146E-06      7    6.0475E-05\n",
      "  22     8.7009E-07    1.0181E-01   4.7028E-07      9    1.7921E-05\n",
      "  23     1.7187E-07    6.7874E-02   7.5863E-08      9    5.3099E-06\n",
      "  24     3.3950E-08    4.5250E-02   1.2236E-08     10    1.5733E-06\n",
      "  25     6.7062E-09    3.0167E-02   1.9735E-09     12    4.6618E-07\n",
      "===========================================\n",
      "complete in   25 iter: obj = 6.706228E-09\n",
      "===========================================\n",
      "\n",
      "\n"
     ]
    }
   ],
   "source": [
    "x0 = np.ones((n,1))\n",
    "model.run(x0, delta0 = 1, print_every_n_step=1, print_results=True)"
   ]
  },
  {
   "cell_type": "code",
   "execution_count": null,
   "metadata": {},
   "outputs": [],
   "source": []
  }
 ],
 "metadata": {
  "kernelspec": {
   "display_name": "Python 3",
   "language": "python",
   "name": "python3"
  },
  "language_info": {
   "codemirror_mode": {
    "name": "ipython",
    "version": 3
   },
   "file_extension": ".py",
   "mimetype": "text/x-python",
   "name": "python",
   "nbconvert_exporter": "python",
   "pygments_lexer": "ipython3",
   "version": "3.8.3"
  }
 },
 "nbformat": 4,
 "nbformat_minor": 4
}
