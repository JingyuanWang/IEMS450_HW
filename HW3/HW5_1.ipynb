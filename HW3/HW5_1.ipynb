{
 "cells": [
  {
   "cell_type": "code",
   "execution_count": 1,
   "metadata": {},
   "outputs": [
    {
     "name": "stdout",
     "output_type": "stream",
     "text": [
      "Automatic pdb calling has been turned ON\n"
     ]
    }
   ],
   "source": [
    "import numpy as np\n",
    "import pandas as pd\n",
    "\n",
    "%pdb on"
   ]
  },
  {
   "cell_type": "markdown",
   "metadata": {},
   "source": [
    "# Question 5.1"
   ]
  },
  {
   "cell_type": "code",
   "execution_count": 2,
   "metadata": {},
   "outputs": [],
   "source": [
    "#-------------------------------------\n",
    "# define functions\n",
    "#-------------------------------------\n",
    "def get_A_b(n):\n",
    "    \n",
    "    A = np.zeros( (n,n))\n",
    "    for i in range(n):\n",
    "        for j in range(n):\n",
    "            A[i,j] = 1/(i+1+j+1-1)\n",
    "    \n",
    "    b = np.ones( (n,1) )\n",
    "    return A, b\n",
    "\n",
    "\n",
    "class CG:\n",
    "    \n",
    "    def __init__(self, A, b):\n",
    "        self.A = A\n",
    "        self.b = b\n",
    "        self.n = A.shape[0]\n",
    "        return\n",
    "    \n",
    "    def run(self, x0, tol=1e-6, itermax = 1000):\n",
    "        \n",
    "        x = x0\n",
    "        r = self.A@x - self.b\n",
    "        p = -r\n",
    "        k = 0\n",
    "        while np.sum(abs(r)) > tol and (k < itermax):\n",
    "            \n",
    "            # calculate parameters from last iter\n",
    "            res_sq_last  = (r.T @ r)\n",
    "            alpha        = res_sq_last / (p.T @ self.A @ p)\n",
    "            alpha        = alpha[0,0]\n",
    "            # update r x\n",
    "            r            = r + alpha * self.A @ p\n",
    "            x            = x + alpha * p\n",
    "            # update p\n",
    "            beta         = (r.T @ r) / res_sq_last\n",
    "            beta         = beta[0,0]\n",
    "            p            = -r + beta * p \n",
    "            k            = k + 1\n",
    "            \n",
    "            \n",
    "        self.r = r\n",
    "        self.k = k\n",
    "        if k < itermax:\n",
    "            res_sq = (r.T @ r)[0,0]\n",
    "            print(f'{self.n:2d}-dimensional problem, converge in {k:4d} iter, residual sq = {res_sq:.2E}')\n",
    "        return x"
   ]
  },
  {
   "cell_type": "code",
   "execution_count": 3,
   "metadata": {},
   "outputs": [
    {
     "name": "stdout",
     "output_type": "stream",
     "text": [
      " 5-dimensional problem, converge in    6 iter, residual sq = 6.67E-15\n",
      " 8-dimensional problem, converge in   18 iter, residual sq = 2.95E-15\n",
      "12-dimensional problem, converge in   74 iter, residual sq = 1.86E-15\n",
      "20-dimensional problem, converge in  186 iter, residual sq = 2.31E-14\n"
     ]
    }
   ],
   "source": [
    "solution_dict = {}\n",
    "residual_dict = {}\n",
    "A_dict        = {}\n",
    "for n in [5, 8, 12,20]:\n",
    "    A, b = get_A_b(n)\n",
    "    x0 = np.zeros((n,1))\n",
    "    CG_model = CG(A,b)\n",
    "    x = CG_model.run(x0)\n",
    "    \n",
    "    # save \n",
    "    solution_dict[n] = x \n",
    "    residual_dict[n] = CG_model.r\n",
    "    A_dict[n]        = A"
   ]
  },
  {
   "cell_type": "code",
   "execution_count": 4,
   "metadata": {},
   "outputs": [
    {
     "name": "stdout",
     "output_type": "stream",
     "text": [
      "[[0.99999995]\n",
      " [1.00000002]\n",
      " [1.00000003]\n",
      " [1.00000004]\n",
      " [1.00000004]]\n",
      "[[0.99999997]\n",
      " [0.99999999]\n",
      " [0.99999997]\n",
      " [1.00000001]\n",
      " [1.        ]\n",
      " [0.99999998]\n",
      " [0.99999998]\n",
      " [1.00000001]]\n",
      "[[1.        ]\n",
      " [1.        ]\n",
      " [1.        ]\n",
      " [1.        ]\n",
      " [1.        ]\n",
      " [1.        ]\n",
      " [1.00000001]\n",
      " [0.99999997]\n",
      " [1.00000002]\n",
      " [0.99999998]\n",
      " [1.00000001]\n",
      " [0.99999999]]\n",
      "[[1.00000006]\n",
      " [0.99999999]\n",
      " [0.99999997]\n",
      " [0.99999998]\n",
      " [0.99999995]\n",
      " [0.99999995]\n",
      " [1.00000004]\n",
      " [0.99999997]\n",
      " [0.99999997]\n",
      " [1.        ]\n",
      " [0.99999999]\n",
      " [0.99999997]\n",
      " [0.99999999]\n",
      " [1.00000004]\n",
      " [1.00000005]\n",
      " [1.00000002]\n",
      " [0.99999997]\n",
      " [0.99999996]\n",
      " [1.00000003]\n",
      " [1.00000003]]\n"
     ]
    }
   ],
   "source": [
    "# double check:\n",
    "for n, x in solution_dict.items():\n",
    "    print(A_dict[n]@x)"
   ]
  },
  {
   "cell_type": "code",
   "execution_count": null,
   "metadata": {},
   "outputs": [],
   "source": []
  }
 ],
 "metadata": {
  "kernelspec": {
   "display_name": "Python 3",
   "language": "python",
   "name": "python3"
  },
  "language_info": {
   "codemirror_mode": {
    "name": "ipython",
    "version": 3
   },
   "file_extension": ".py",
   "mimetype": "text/x-python",
   "name": "python",
   "nbconvert_exporter": "python",
   "pygments_lexer": "ipython3",
   "version": "3.8.3"
  }
 },
 "nbformat": 4,
 "nbformat_minor": 4
}
