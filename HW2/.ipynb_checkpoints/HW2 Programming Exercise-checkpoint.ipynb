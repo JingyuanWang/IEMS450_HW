{
 "cells": [
  {
   "cell_type": "markdown",
   "metadata": {},
   "source": [
    "# Initialize: \n",
    "import packages, set directory, set random seed"
   ]
  },
  {
   "cell_type": "code",
   "execution_count": 1,
   "metadata": {},
   "outputs": [
    {
     "name": "stdout",
     "output_type": "stream",
     "text": [
      "Automatic pdb calling has been turned ON\n"
     ]
    },
    {
     "data": {
      "text/plain": [
       "<module 'opt_linear_search' from '/Users/jingyuanwang/GitHub/IEMS450_HW/HW2/functions/opt_linear_search.py'>"
      ]
     },
     "execution_count": 1,
     "metadata": {},
     "output_type": "execute_result"
    }
   ],
   "source": [
    "import numpy as np\n",
    "import os,sys,inspect\n",
    "import importlib\n",
    "%pdb on\n",
    "\n",
    "# import my functions:\n",
    "# (1) find the path\n",
    "dirpath = os.getcwd()\n",
    "i = 0\n",
    "while(os.path.basename(dirpath) != \"IEMS450_HW\") and i <10:\n",
    "    dirpath = os.path.dirname(dirpath) \n",
    "    i = i + 1\n",
    "targetdir = dirpath + '/HW2/functions'\n",
    "if targetdir not in sys.path:\n",
    "    sys.path.insert(0,targetdir)\n",
    "    \n",
    "# (2) import\n",
    "import objective_function as obj\n",
    "importlib.reload(obj)\n",
    "import opt_linear_search as opt_ls\n",
    "importlib.reload(opt_ls)"
   ]
  },
  {
   "cell_type": "markdown",
   "metadata": {},
   "source": [
    "These functions can be find here: https://github.com/JingyuanWang/IEMS450_HW/tree/master/HW2/functions"
   ]
  },
  {
   "cell_type": "markdown",
   "metadata": {},
   "source": [
    "# Set up\n",
    "define the objective functions"
   ]
  },
  {
   "cell_type": "code",
   "execution_count": 2,
   "metadata": {},
   "outputs": [],
   "source": [
    "# define a Rosenbrock_function \n",
    "f = obj.Rosenbrock_function()"
   ]
  },
  {
   "cell_type": "code",
   "execution_count": 3,
   "metadata": {},
   "outputs": [],
   "source": [
    "# define a dictionary of extended Rosenbrock_function, with varies dimensions\n",
    "# dimension 2 is included to double check the function correctness\n",
    "# will test the performance of the algorithm using dimension 10, 100， 1000， 10000\n",
    "f_ext     = {}\n",
    "for n in [2, 10, 100, 1000, 10000]:\n",
    "    f_ext[n]  = obj.Rosenbrock_function_extended(n)"
   ]
  },
  {
   "cell_type": "markdown",
   "metadata": {},
   "source": [
    "# Find the minimum of Rosenbrock function \n",
    "find the minimum of Rosenbrock function, the f defined above. Using different starting point (1.2, 1.2) or (-1.2, 1)"
   ]
  },
  {
   "cell_type": "code",
   "execution_count": 4,
   "metadata": {},
   "outputs": [],
   "source": [
    "# initialize for different methods\n",
    "importlib.reload(opt_ls)\n",
    "model1 = opt_ls.linesearch(f, method = 'steepest descent', print_every_n_step=50)\n",
    "model2 = opt_ls.linesearch(f, method = 'basic Newton’s method', print_every_n_step=1)\n",
    "model3 = opt_ls.linesearch(f, method = 'BFGS', print_every_n_step=1)"
   ]
  },
  {
   "cell_type": "markdown",
   "metadata": {},
   "source": [
    "## 1. Rosenbrock function (2.22) in the book with x0 = (1.2, 1.2)T"
   ]
  },
  {
   "cell_type": "code",
   "execution_count": 5,
   "metadata": {},
   "outputs": [
    {
     "name": "stdout",
     "output_type": "stream",
     "text": [
      "===========================================\n",
      "steepest descent\n",
      "-------------------------------------------\n",
      " iter            f       ||p_k||        alpha   #func   ||grad_f|| \n",
      "   0     5.8000E+00    0.0000E+00   0.0000E+00      0    1.2517E+02\n",
      "  50     1.1284E-02    2.8033E-01   9.7656E-04     11    9.6419E-02\n",
      " 100     1.0030E-02    3.6341E-01   9.7656E-04     11    9.6868E-02\n",
      " 150     8.9118E-03    2.5177E-01   9.7656E-04     11    8.4548E-02\n",
      " 200     7.6979E-03    2.4618E-01   9.7656E-04     11    7.8557E-02\n",
      " 250     6.6724E-03    2.0258E-01   1.9531E-03     10    2.4271E-01\n",
      " 300     5.7948E-03    2.3023E-01   9.7656E-04     11    6.7906E-02\n",
      " 350     4.9695E-03    6.8075E-02   3.9062E-03      9    1.2542E-01\n",
      " 400     4.0794E-03    2.7884E-01   9.7656E-04     11    5.8616E-02\n",
      " 450     3.3579E-03    5.1593E-02   1.5625E-02      7    2.3524E-01\n",
      " 500     2.6213E-03    2.0796E-01   9.7656E-04     11    4.5606E-02\n",
      " 550     2.0545E-03    4.0234E-02   3.1250E-02      6    3.0840E-01\n",
      " 600     1.4355E-03    3.4013E-02   1.5625E-02      7    1.3509E-01\n",
      " 650     9.4182E-04    1.5508E-01   1.9531E-03     10    1.6305E-01\n",
      " 700     6.1307E-04    1.5602E-01   1.9531E-03     10    1.6118E-01\n",
      " 750     2.4749E-04    1.6877E-01   1.9531E-03     10    1.6950E-01\n",
      " 800     2.3599E-04    2.0020E-01   1.9531E-03     10    2.0071E-01\n",
      " 850     2.2356E-04    2.1747E-01   1.9531E-03     10    2.1763E-01\n",
      " 900     2.0863E-04    2.1691E-01   1.9531E-03     10    2.1671E-01\n",
      " 950     1.9133E-04    1.9926E-01   1.9531E-03     10    1.9876E-01\n",
      "1000     1.7322E-04    1.6910E-01   1.9531E-03     10    1.6841E-01\n",
      "===========================================\n",
      "not converge, last iter 1001: obj = 1.728723E-04\n",
      "===========================================\n",
      "\n",
      "\n",
      "===========================================\n",
      "basic Newton’s method\n",
      "-------------------------------------------\n",
      " iter            f       ||p_k||        alpha   #func   ||grad_f|| \n",
      "   0     5.8000E+00    0.0000E+00   0.0000E+00      0    1.2517E+02\n",
      "   1     3.8384E-02    2.3024E-01   1.0000E+00      1    3.9982E-01\n",
      "   2     1.8762E-02    5.0621E-01   5.0000E-01      2    4.7849E+00\n",
      "   3     4.2892E-03    7.2991E-02   1.0000E+00      1    6.5635E-01\n",
      "   4     9.0327E-04    1.2244E-01   1.0000E+00      1    1.2658E+00\n",
      "   5     1.8514E-05    1.5032E-02   1.0000E+00      1    3.4658E-02\n",
      "   6     3.3970E-08    9.3942E-03   1.0000E+00      1    8.0198E-03\n",
      "   7     3.2267E-14    9.6625E-05   1.0000E+00      1    1.4519E-06\n",
      "   8     1.0485E-25    3.9546E-07   1.0000E+00      1    1.4342E-11\n",
      "===========================================\n",
      "complete in    8 iter: obj = 1.048542E-25\n",
      "===========================================\n",
      "\n",
      "\n",
      "===========================================\n",
      "BFGS\n",
      "-------------------------------------------\n",
      " iter            f       ||p_k||        alpha   #func   ||grad_f|| \n",
      "   0     5.8000E+00    0.0000E+00   0.0000E+00      0    1.2517E+02\n",
      "   1     3.8384E-02    2.3024E-01   1.0000E+00      1    3.9982E-01\n",
      "   2     3.6833E-02    1.0353E-02   1.0000E+00      1    3.9148E-01\n",
      "   3     1.8367E-02    4.9519E-01   5.0000E-01      2    4.7730E+00\n",
      "   4     1.1197E-02    2.8247E-02   1.0000E+00      1    8.9463E-01\n",
      "   5     4.7462E-03    8.9140E-02   1.0000E+00      1    7.6860E-01\n",
      "   6     2.0647E-03    1.1525E-01   1.0000E+00      1    1.9119E+00\n",
      "   7     4.3104E-04    8.0257E-03   1.0000E+00      1    1.2269E-01\n",
      "   8     6.8366E-05    2.8333E-02   1.0000E+00      1    8.0965E-02\n",
      "   9     2.5754E-06    1.7277E-02   1.0000E+00      1    6.9831E-02\n",
      "  10     1.8623E-08    5.6116E-04   1.0000E+00      1    1.9542E-03\n",
      "  11     1.3430E-12    2.9075E-04   1.0000E+00      1    4.4557E-05\n",
      "  12     1.3267E-17    1.3345E-06   1.0000E+00      1    1.1100E-07\n",
      "===========================================\n",
      "complete in   12 iter: obj = 1.326746E-17\n",
      "===========================================\n",
      "\n",
      "\n"
     ]
    }
   ],
   "source": [
    "# run different methods\n",
    "x0 = np.array([1.2, 1.2])\n",
    "model1.run(x0,maxiter=1000)\n",
    "model2.run(x0)\n",
    "model3.run(x0)"
   ]
  },
  {
   "cell_type": "code",
   "execution_count": 6,
   "metadata": {},
   "outputs": [
    {
     "name": "stdout",
     "output_type": "stream",
     "text": [
      "Results from steepest descent: [1.01245926 1.02549374]\n",
      "Results from basic Newton’s method: [1. 1.]\n",
      "Results from BFGS: [1.         1.00000001]\n"
     ]
    }
   ],
   "source": [
    "# compare the results from different methods\n",
    "print('Results from {}: {}'.format(model1.method, model1.x.squeeze() ) )\n",
    "print('Results from {}: {}'.format(model2.method, model2.x.squeeze() ) )\n",
    "print('Results from {}: {}'.format(model3.method, model3.x.squeeze() ) )"
   ]
  },
  {
   "cell_type": "markdown",
   "metadata": {},
   "source": [
    "## 2. Rosenbrock function (2.22) in the book with x0 = (−1.2, 1)T"
   ]
  },
  {
   "cell_type": "code",
   "execution_count": 7,
   "metadata": {
    "scrolled": false
   },
   "outputs": [
    {
     "name": "stdout",
     "output_type": "stream",
     "text": [
      "===========================================\n",
      "steepest descent\n",
      "-------------------------------------------\n",
      " iter            f       ||p_k||        alpha   #func   ||grad_f|| \n",
      "   0     2.4200E+01    0.0000E+00   0.0000E+00      0    2.3287E+02\n",
      "  50     4.8340E-03    2.9565E-01   1.9531E-03     10    2.2512E-01\n",
      " 100     4.3269E-03    1.2291E-01   1.9531E-03     10    1.0151E-01\n",
      " 150     3.8915E-03    9.3416E-02   1.9531E-03     10    8.0932E-02\n",
      " 200     3.5043E-03    1.0428E-01   1.9531E-03     10    8.8209E-02\n",
      " 250     3.1653E-03    7.6613E-02   3.9062E-03      9    1.5253E-01\n",
      " 300     2.8532E-03    7.6506E-02   1.9531E-03     10    6.7859E-02\n",
      " 350     2.5790E-03    1.0713E-01   1.9531E-03     10    9.0406E-02\n",
      " 400     2.3332E-03    8.8239E-02   1.9531E-03     10    7.6093E-02\n",
      " 450     2.1135E-03    1.0019E-01   1.9531E-03     10    8.5377E-02\n",
      " 500     1.9157E-03    6.3880E-02   1.9531E-03     10    5.7359E-02\n",
      "===========================================\n",
      "not converge, last iter 501: obj = 1.914609E-03\n",
      "===========================================\n",
      "\n",
      "\n",
      "===========================================\n",
      "basic Newton’s method\n",
      "-------------------------------------------\n",
      " iter            f       ||p_k||        alpha   #func   ||grad_f|| \n",
      "   0     2.4200E+01    0.0000E+00   0.0000E+00      0    2.3287E+02\n",
      "   1     4.7319E+00    3.8148E-01   1.0000E+00      1    4.6394E+00\n",
      "   2     4.0874E+00    4.9509E+00   1.2500E-01      4    2.8550E+01\n",
      "   3     3.2287E+00    2.6774E-01   1.0000E+00      1    1.1572E+01\n",
      "   4     3.2139E+00    5.8011E-01   1.0000E+00      1    3.0326E+01\n",
      "   5     1.9426E+00    7.9269E-02   1.0000E+00      1    3.6041E+00\n",
      "   6     1.6002E+00    9.3155E-01   2.5000E-01      3    9.2484E+00\n",
      "   7     1.1784E+00    1.4554E-01   1.0000E+00      1    4.9198E+00\n",
      "   8     9.2241E-01    2.0787E-01   1.0000E+00      1    8.6643E+00\n",
      "   9     5.9749E-01    1.1234E-01   1.0000E+00      1    1.7788E+00\n",
      "  10     4.5263E-01    3.3090E-01   5.0000E-01      2    5.8778E+00\n",
      "  11     2.8076E-01    1.4266E-01   1.0000E+00      1    2.1764E+00\n",
      "  12     2.1139E-01    2.4785E-01   1.0000E+00      1    9.4013E+00\n",
      "  13     8.9020E-02    1.0657E-01   1.0000E+00      1    4.9206E-01\n",
      "  14     5.1535E-02    3.4748E-01   5.0000E-01      2    3.9242E+00\n",
      "  15     1.9993E-02    1.2451E-01   1.0000E+00      1    1.2421E+00\n",
      "  16     7.1692E-03    1.6003E-01   1.0000E+00      1    2.5331E+00\n",
      "  17     1.0696E-03    6.0799E-02   1.0000E+00      1    2.3758E-01\n",
      "  18     7.7768E-05    6.2085E-02   1.0000E+00      1    3.4827E-01\n",
      "  19     2.8247E-07    8.0074E-03   1.0000E+00      1    3.8742E-03\n",
      "  20     8.5171E-12    1.1707E-03   1.0000E+00      1    1.1872E-04\n",
      "  21     3.7446E-21    2.7268E-06   1.0000E+00      1    4.4738E-10\n",
      "===========================================\n",
      "complete in   21 iter: obj = 3.744562E-21\n",
      "===========================================\n",
      "\n",
      "\n",
      "===========================================\n",
      "BFGS\n",
      "-------------------------------------------\n",
      " iter            f       ||p_k||        alpha   #func   ||grad_f|| \n",
      "   0     2.4200E+01    0.0000E+00   0.0000E+00      0    2.3287E+02\n",
      "   1     4.7319E+00    3.8148E-01   1.0000E+00      1    4.6394E+00\n",
      "   2     4.6256E+00    6.2225E-02   1.0000E+00      1    4.5846E+00\n",
      "   3     4.0592E+00    4.8480E+00   1.2500E-01      4    2.9903E+01\n",
      "   4     3.7417E+00    8.0539E-02   1.0000E+00      1    1.0150E+01\n",
      "   5     3.1879E+00    3.2221E-01   1.0000E+00      1    1.2160E+01\n",
      "   6     2.9397E+00    5.1775E-01   5.0000E-01      2    1.9653E+01\n",
      "   7     2.4842E+00    1.0560E-01   1.0000E+00      1    1.0736E+01\n",
      "   8     2.1907E+00    2.6315E-01   1.0000E+00      1    1.5596E+01\n",
      "   9     1.6469E+00    9.0602E-02   1.0000E+00      1    2.2341E+00\n",
      "  10     1.4072E+00    3.3247E-01   5.0000E-01      2    7.3940E+00\n",
      "  11     1.2678E+00    6.7629E-02   1.0000E+00      1    7.1290E+00\n",
      "  12     9.1313E-01    1.3152E-01   1.0000E+00      1    2.4787E+00\n",
      "  13     7.6855E-01    3.9257E-01   2.5000E-01      3    3.9083E+00\n",
      "  14     7.0265E-01    9.0358E-02   1.0000E+00      1    6.9672E+00\n",
      "  15     5.5162E-01    5.9246E-02   1.0000E+00      1    3.4817E+00\n",
      "  16     4.1909E-01    1.5016E-01   1.0000E+00      1    5.9121E+00\n",
      "  17     2.7801E-01    1.0860E-01   1.0000E+00      1    1.1304E+00\n",
      "  18     2.1844E-01    2.6559E-01   5.0000E-01      2    5.2260E+00\n",
      "  19     1.7336E-01    4.6046E-02   1.0000E+00      1    3.0018E+00\n",
      "  20     1.3616E-01    2.0331E-01   1.0000E+00      1    8.3834E+00\n",
      "  21     7.5198E-02    3.6968E-02   1.0000E+00      1    2.5751E+00\n",
      "  22     4.3439E-02    1.0754E-01   1.0000E+00      1    1.2401E+00\n",
      "  23     3.5962E-02    1.5684E-01   5.0000E-01      2    3.6622E+00\n",
      "  24     2.5482E-02    3.4229E-02   1.0000E+00      1    2.4178E+00\n",
      "  25     1.0137E-02    1.1428E-01   1.0000E+00      1    1.7719E+00\n",
      "  26     4.3474E-03    5.6358E-02   1.0000E+00      1    5.9473E-01\n",
      "  27     1.3474E-03    1.5130E-01   5.0000E-01      2    9.6516E-01\n",
      "  28     5.0471E-04    2.3968E-02   1.0000E+00      1    5.6723E-01\n",
      "  29     4.5275E-05    2.6134E-02   1.0000E+00      1    5.0364E-02\n",
      "  30     1.1729E-05    1.6353E-02   1.0000E+00      1    1.5024E-01\n",
      "  31     7.4887E-07    1.4699E-03   1.0000E+00      1    3.8693E-02\n",
      "  32     6.2574E-11    1.1182E-04   1.0000E+00      1    7.0720E-06\n",
      "  33     2.1026E-14    1.7378E-05   1.0000E+00      1    4.2968E-07\n",
      "===========================================\n",
      "complete in   33 iter: obj = 2.102607E-14\n",
      "===========================================\n",
      "\n",
      "\n"
     ]
    }
   ],
   "source": [
    "x0 = np.array([-1.2, 1])\n",
    "model1.run(x0)\n",
    "model2.run(x0)\n",
    "model3.run(x0)"
   ]
  },
  {
   "cell_type": "code",
   "execution_count": 8,
   "metadata": {},
   "outputs": [
    {
     "name": "stdout",
     "output_type": "stream",
     "text": [
      "Results from steepest descent: [0.95624921 0.91448164]\n",
      "Results from basic Newton’s method: [1. 1.]\n",
      "Results from BFGS: [0.99999986 0.99999971]\n"
     ]
    }
   ],
   "source": [
    "# compare the results from different methods\n",
    "print('Results from {}: {}'.format(model1.method, model1.x.squeeze() ) )\n",
    "print('Results from {}: {}'.format(model2.method, model2.x.squeeze() ) )\n",
    "print('Results from {}: {}'.format(model3.method, model3.x.squeeze() ) )"
   ]
  },
  {
   "cell_type": "markdown",
   "metadata": {},
   "source": [
    "# Find the minima for the extended  Rosenbrock functions"
   ]
  },
  {
   "cell_type": "markdown",
   "metadata": {},
   "source": [
    "## n=100, compare the performance of different algorithm"
   ]
  },
  {
   "cell_type": "code",
   "execution_count": 9,
   "metadata": {},
   "outputs": [
    {
     "name": "stdout",
     "output_type": "stream",
     "text": [
      "\n",
      "\n",
      "------------------------------------------------------------\n",
      "-------------------- starting point: [-1.2, 1]T\n",
      "------------------------------------------------------------\n",
      "===========================================\n",
      "steepest descent\n",
      "-------------------------------------------\n",
      " iter            f       ||p_k||        alpha   #func   ||grad_f|| \n",
      "   0     5.7420E+02    0.0000E+00   0.0000E+00      0    6.8081E+02\n",
      "  50     1.2524E-02    2.8286E-01   9.7656E-04     11    2.2836E-01\n",
      " 100     1.1913E-02    1.4361E-01   1.9531E-03     10    2.7934E-01\n",
      " 150     1.1317E-02    1.5634E-01   9.7656E-04     11    1.3584E-01\n",
      " 200     1.0755E-02    1.6476E-01   9.7656E-04     11    1.4088E-01\n",
      " 250     1.0218E-02    1.6640E-01   9.7656E-04     11    1.4128E-01\n",
      " 300     9.7060E-03    1.6076E-01   9.7656E-04     11    1.3665E-01\n",
      " 350     9.2176E-03    1.4922E-01   9.7656E-04     11    1.2799E-01\n",
      " 400     8.7520E-03    1.3429E-01   9.7656E-04     11    1.1714E-01\n",
      " 450     8.3124E-03    1.1874E-01   1.9531E-03     10    2.2589E-01\n",
      " 500     7.8858E-03    2.2703E-01   9.7656E-04     11    1.8159E-01\n",
      "===========================================\n",
      "not converge, last iter 501: obj = 7.876096E-03\n",
      "===========================================\n",
      "\n",
      "\n",
      "===========================================\n",
      "basic Newton’s method\n",
      "-------------------------------------------\n",
      " iter            f       ||p_k||        alpha   #func   ||grad_f|| \n",
      "   0     5.7420E+02    0.0000E+00   0.0000E+00      0    6.8081E+02\n",
      "   1     4.2119E+01    1.4089E+00   1.0000E+00      1    1.4755E+02\n",
      "   2     8.2685E-01    5.2757E-01   1.0000E+00      1    1.7984E+01\n",
      "   3     8.5707E-02    4.5552E-01   1.0000E+00      1    1.2208E+01\n",
      "   4     2.6373E-03    1.5592E-02   1.0000E+00      1    1.4242E-01\n",
      "   5     4.0459E-04    1.0525E-01   1.0000E+00      1    8.1048E-01\n",
      "   6     1.5519E-08    1.4407E-03   1.0000E+00      1    2.8800E-04\n",
      "   7     1.4451E-14    2.4910E-04   1.0000E+00      1    4.8132E-06\n",
      "   8     1.3312E-29    1.0600E-08   1.0000E+00      1    1.4076E-13\n",
      "===========================================\n",
      "complete in    8 iter: obj = 1.331203E-29\n",
      "===========================================\n",
      "\n",
      "\n",
      "===========================================\n",
      "BFGS\n",
      "-------------------------------------------\n",
      " iter            f       ||p_k||        alpha   #func   ||grad_f|| \n",
      "   0     5.7420E+02    0.0000E+00   0.0000E+00      0    6.8081E+02\n",
      "   1     4.2119E+01    1.4089E+00   1.0000E+00      1    1.4755E+02\n",
      "   2     5.3547E+00    3.8423E-01   1.0000E+00      1    4.8497E+01\n",
      "   3     2.1834E-01    1.8765E-01   1.0000E+00      1    7.2164E+00\n",
      "   4     9.0702E-02    3.7549E-02   1.0000E+00      1    9.6371E-01\n",
      "   5     8.5249E-02    1.8238E-02   1.0000E+00      1    5.3558E-01\n",
      "   6     7.5210E-02    5.6809E-02   1.0000E+00      1    1.3739E+00\n",
      "   7     6.2635E-02    9.5496E-02   1.0000E+00      1    2.6064E+00\n",
      "   8     4.6866E-02    1.4524E-01   1.0000E+00      1    4.1060E+00\n",
      "   9     2.7335E-02    9.1942E-02   1.0000E+00      1    3.3351E+00\n",
      "  10     8.2678E-03    7.9604E-02   1.0000E+00      1    5.6686E-01\n",
      "  11     4.5506E-03    1.4837E-01   5.0000E-01      2    1.6551E+00\n",
      "  12     2.3207E-03    3.0747E-02   1.0000E+00      1    1.2104E+00\n",
      "  13     5.5048E-04    3.7536E-02   1.0000E+00      1    4.1669E-01\n",
      "  14     1.4410E-04    3.0499E-02   1.0000E+00      1    3.7609E-01\n",
      "  15     2.8727E-05    5.7318E-03   1.0000E+00      1    1.8903E-01\n",
      "  16     2.8859E-06    3.5896E-03   1.0000E+00      1    4.2141E-02\n",
      "  17     3.6792E-07    6.8262E-04   1.0000E+00      1    1.3722E-02\n",
      "  18     2.0013E-08    2.8806E-04   1.0000E+00      1    3.4287E-03\n",
      "  19     2.7593E-09    1.0791E-05   1.0000E+00      1    1.3456E-03\n",
      "  20     1.8678E-10    1.8205E-05   1.0000E+00      1    3.2418E-04\n",
      "  21     2.5628E-11    4.2395E-06   1.0000E+00      1    1.1464E-04\n",
      "  22     1.2821E-12    8.5752E-07   1.0000E+00      1    3.0712E-05\n",
      "  23     1.8425E-13    2.1440E-07   1.0000E+00      1    1.1240E-05\n",
      "  24     1.4193E-14    1.0562E-07   1.0000E+00      1    2.7775E-06\n",
      "  25     1.3112E-15    1.0669E-08   1.0000E+00      1    9.9752E-07\n",
      "===========================================\n",
      "complete in   25 iter: obj = 1.311160E-15\n",
      "===========================================\n",
      "\n",
      "\n"
     ]
    }
   ],
   "source": [
    "# 1. chose a dimension\n",
    "n = 100\n",
    "\n",
    "# 2. initialize for different methods\n",
    "importlib.reload(opt_ls)\n",
    "model1 = opt_ls.linesearch(f_ext[n], method = 'steepest descent', print_every_n_step=50)\n",
    "model2 = opt_ls.linesearch(f_ext[n], method = 'basic Newton’s method', print_every_n_step=1)\n",
    "model3 = opt_ls.linesearch(f_ext[n], method = 'BFGS', print_every_n_step=1)\n",
    "\n",
    "# 3. define starting point and run: [-1.2, 1]T\n",
    "# (1) print staring point\n",
    "print('\\n')\n",
    "print('-'*60)\n",
    "print('-'*20+' starting point: [-1.2, 1]T')\n",
    "print('-'*60)\n",
    "x0 = np.array( [1.2]*n )\n",
    "# (2) run\n",
    "model1.run(x0)\n",
    "model2.run(x0)\n",
    "model3.run(x0)\n",
    "# (3) print results\n",
    "#print('Results from {}: {}'.format(model1.method, model1.x.squeeze() ) )\n",
    "#print('Results from {}: {}'.format(model2.method, model2.x.squeeze() ) )\n",
    "#print('Results from {}: {}'.format(model3.method, model3.x.squeeze() ) )"
   ]
  },
  {
   "cell_type": "code",
   "execution_count": 10,
   "metadata": {},
   "outputs": [
    {
     "name": "stdout",
     "output_type": "stream",
     "text": [
      "2.41 s ± 70.2 ms per loop (mean ± std. dev. of 7 runs, 1 loop each)\n",
      "23.9 ms ± 947 µs per loop (mean ± std. dev. of 7 runs, 10 loops each)\n",
      "38.4 ms ± 1.01 ms per loop (mean ± std. dev. of 7 runs, 10 loops each)\n"
     ]
    }
   ],
   "source": [
    "# compare the time for different algorithm\n",
    "%timeit model1.run(x0, print_every_n_step=False, print_results=False)\n",
    "%timeit model2.run(x0, print_every_n_step=False, print_results=False)\n",
    "%timeit model3.run(x0, print_every_n_step=False, print_results=False)"
   ]
  },
  {
   "cell_type": "markdown",
   "metadata": {},
   "source": [
    "## n=1000, compare the performance of Newton and BFGS\n",
    "\n",
    "steepest descent is too slow and is not comparable at this large dimension for sure."
   ]
  },
  {
   "cell_type": "code",
   "execution_count": 11,
   "metadata": {
    "scrolled": false
   },
   "outputs": [
    {
     "name": "stdout",
     "output_type": "stream",
     "text": [
      "\n",
      "\n",
      "------------------------------------------------------------\n",
      "-------------------- starting point: [-1.2, 1]T\n",
      "------------------------------------------------------------\n",
      "===========================================\n",
      "basic Newton’s method\n",
      "-------------------------------------------\n",
      " iter            f       ||p_k||        alpha   #func   ||grad_f|| \n",
      "   0     5.7942E+03    0.0000E+00   0.0000E+00      0    2.1392E+03\n",
      "   1     4.3632E+02    4.3720E+00   1.0000E+00      1    4.7178E+02\n",
      "   2     8.1484E+00    1.6794E+00   1.0000E+00      1    5.8193E+01\n",
      "   3     9.0345E-02    5.2455E-01   1.0000E+00      1    1.2284E+01\n",
      "   4     2.6373E-03    1.6999E-02   1.0000E+00      1    1.4243E-01\n",
      "   5     4.0459E-04    1.0525E-01   1.0000E+00      1    8.1048E-01\n",
      "   6     1.5519E-08    1.4407E-03   1.0000E+00      1    2.8800E-04\n",
      "   7     1.4451E-14    2.4910E-04   1.0000E+00      1    4.8132E-06\n",
      "   8     1.3312E-29    1.0600E-08   1.0000E+00      1    1.4076E-13\n",
      "===========================================\n",
      "complete in    8 iter: obj = 1.331203E-29\n",
      "===========================================\n",
      "\n",
      "\n",
      "===========================================\n",
      "BFGS\n",
      "-------------------------------------------\n",
      " iter            f       ||p_k||        alpha   #func   ||grad_f|| \n",
      "   0     5.7942E+03    0.0000E+00   0.0000E+00      0    2.1392E+03\n",
      "   1     4.3632E+02    4.3720E+00   1.0000E+00      1    4.7178E+02\n",
      "   2     5.5255E+01    1.2352E+00   1.0000E+00      1    1.5615E+02\n",
      "   3     1.3591E+00    6.1094E-01   1.0000E+00      1    2.2790E+01\n",
      "   4     9.5361E-02    1.0600E-01   1.0000E+00      1    1.6868E+00\n",
      "   5     8.5348E-02    1.8725E-02   1.0000E+00      1    5.2195E-01\n",
      "   6     8.0117E-02    2.5035E-02   1.0000E+00      1    7.1465E-01\n",
      "   7     6.4159E-02    1.0968E-01   1.0000E+00      1    2.2803E+00\n",
      "   8     4.9751E-02    1.2707E-01   1.0000E+00      1    3.6810E+00\n",
      "   9     3.0623E-02    1.2017E-01   1.0000E+00      1    3.7358E+00\n",
      "  10     8.9257E-03    9.0369E-02   1.0000E+00      1    9.2267E-01\n",
      "  11     5.4670E-03    1.0407E-01   1.0000E+00      1    2.5604E+00\n",
      "  12     1.8676E-03    3.9176E-03   1.0000E+00      1    6.8295E-01\n",
      "  13     8.2028E-04    2.9944E-02   1.0000E+00      1    5.2827E-01\n",
      "  14     1.2796E-04    3.5658E-02   1.0000E+00      1    3.1254E-01\n",
      "  15     2.0788E-05    6.4593E-03   1.0000E+00      1    9.4305E-02\n",
      "  16     1.9313E-06    4.4087E-03   1.0000E+00      1    3.5151E-02\n",
      "  17     2.1166E-07    2.8047E-04   1.0000E+00      1    1.3367E-02\n",
      "  18     2.4435E-08    4.8355E-05   1.0000E+00      1    3.4160E-03\n",
      "  19     1.8043E-09    6.1049E-05   1.0000E+00      1    1.1007E-03\n",
      "  20     1.8265E-10    3.6255E-06   1.0000E+00      1    3.7447E-04\n",
      "  21     2.0708E-11    1.5132E-06   1.0000E+00      1    1.0502E-04\n",
      "  22     1.6726E-12    5.0299E-07   1.0000E+00      1    3.2261E-05\n",
      "  23     1.5265E-13    9.4553E-08   1.0000E+00      1    1.0810E-05\n",
      "  24     1.7694E-14    2.9704E-08   1.0000E+00      1    3.2152E-06\n",
      "  25     1.4645E-15    1.6933E-08   1.0000E+00      1    9.3524E-07\n",
      "===========================================\n",
      "complete in   25 iter: obj = 1.464516E-15\n",
      "===========================================\n",
      "\n",
      "\n"
     ]
    }
   ],
   "source": [
    "# 1. chose a dimension\n",
    "n = 1000\n",
    "\n",
    "# 2. initialize for different methods\n",
    "importlib.reload(opt_ls)\n",
    "#model1 = opt_ls.linesearch(f_ext[n], method = 'steepest descent', print_every_n_step=50)\n",
    "model2 = opt_ls.linesearch(f_ext[n], method = 'basic Newton’s method', print_every_n_step=1)\n",
    "model3 = opt_ls.linesearch(f_ext[n], method = 'BFGS', print_every_n_step=1)\n",
    "\n",
    "# 3. define starting point and run: [-1.2, 1]T\n",
    "# (1) print staring point\n",
    "print('\\n')\n",
    "print('-'*60)\n",
    "print('-'*20+' starting point: [-1.2, 1]T')\n",
    "print('-'*60)\n",
    "x0 = np.array( [1.2]*n )\n",
    "# (2) run\n",
    "#model1.run(x0)\n",
    "model2.run(x0)\n",
    "model3.run(x0)"
   ]
  },
  {
   "cell_type": "code",
   "execution_count": 12,
   "metadata": {},
   "outputs": [
    {
     "name": "stdout",
     "output_type": "stream",
     "text": [
      "319 ms ± 5.95 ms per loop (mean ± std. dev. of 7 runs, 1 loop each)\n",
      "2.2 s ± 21.6 ms per loop (mean ± std. dev. of 7 runs, 1 loop each)\n"
     ]
    }
   ],
   "source": [
    "#%timeit model1.run(x0, print_every_n_step=False, print_results=False)\n",
    "%timeit model2.run(x0, print_every_n_step=False, print_results=False)\n",
    "%timeit model3.run(x0, print_every_n_step=False, print_results=False)"
   ]
  },
  {
   "cell_type": "markdown",
   "metadata": {},
   "source": []
  }
 ],
 "metadata": {
  "kernelspec": {
   "display_name": "Python 3",
   "language": "python",
   "name": "python3"
  },
  "language_info": {
   "codemirror_mode": {
    "name": "ipython",
    "version": 3
   },
   "file_extension": ".py",
   "mimetype": "text/x-python",
   "name": "python",
   "nbconvert_exporter": "python",
   "pygments_lexer": "ipython3",
   "version": "3.8.3"
  }
 },
 "nbformat": 4,
 "nbformat_minor": 4
}
