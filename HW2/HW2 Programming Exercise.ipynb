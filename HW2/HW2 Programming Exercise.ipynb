{
 "cells": [
  {
   "cell_type": "markdown",
   "metadata": {},
   "source": [
    "# Initialize: \n",
    "import packages, set directory, set random seed"
   ]
  },
  {
   "cell_type": "code",
   "execution_count": 1,
   "metadata": {},
   "outputs": [
    {
     "name": "stdout",
     "output_type": "stream",
     "text": [
      "Automatic pdb calling has been turned ON\n"
     ]
    },
    {
     "data": {
      "text/plain": [
       "<module 'opt_linear_search' from '/Users/jingyuanwang/GitHub/IEMS450_HW/HW2/functions/opt_linear_search.py'>"
      ]
     },
     "execution_count": 1,
     "metadata": {},
     "output_type": "execute_result"
    }
   ],
   "source": [
    "import numpy as np\n",
    "import os,sys,inspect\n",
    "import importlib\n",
    "%pdb on\n",
    "\n",
    "# import my functions:\n",
    "# (1) find the path\n",
    "dirpath = os.getcwd()\n",
    "i = 0\n",
    "while(os.path.basename(dirpath) != \"IEMS450_HW\") and i <10:\n",
    "    dirpath = os.path.dirname(dirpath) \n",
    "    i = i + 1\n",
    "targetdir = dirpath + '/HW2/functions'\n",
    "if targetdir not in sys.path:\n",
    "    sys.path.insert(0,targetdir)\n",
    "    \n",
    "# (2) import\n",
    "import objective_function as obj\n",
    "importlib.reload(obj)\n",
    "import opt_linear_search as opt_ls\n",
    "importlib.reload(opt_ls)"
   ]
  },
  {
   "cell_type": "markdown",
   "metadata": {},
   "source": [
    "These functions can be find here: https://github.com/JingyuanWang/IEMS450_HW/tree/master/HW2/functions"
   ]
  },
  {
   "cell_type": "markdown",
   "metadata": {},
   "source": [
    "# Set up\n",
    "define the objective functions"
   ]
  },
  {
   "cell_type": "code",
   "execution_count": 2,
   "metadata": {},
   "outputs": [],
   "source": [
    "# define a Rosenbrock_function \n",
    "f = obj.Rosenbrock_function()"
   ]
  },
  {
   "cell_type": "code",
   "execution_count": 3,
   "metadata": {},
   "outputs": [],
   "source": [
    "# define a dictionary of extended Rosenbrock_function, with varies dimensions\n",
    "# dimension 2 is included to double check the function correctness\n",
    "# will test the performance of the algorithm using dimension 10, 100， 1000， 10000\n",
    "f_ext     = {}\n",
    "for n in [2, 10, 100, 1000, 10000]:\n",
    "    f_ext[n]  = obj.Rosenbrock_function_extended(n)"
   ]
  },
  {
   "cell_type": "markdown",
   "metadata": {},
   "source": [
    "# Find the minimum of Rosenbrock function \n",
    "find the minimum of Rosenbrock function, the f defined above. Using different starting point (1.2, 1.2) or (-1.2, 1)"
   ]
  },
  {
   "cell_type": "code",
   "execution_count": 4,
   "metadata": {},
   "outputs": [],
   "source": [
    "# initialize for different methods\n",
    "importlib.reload(opt_ls)\n",
    "model1 = opt_ls.linesearch(f, method = 'steepest descent', print_every_n_step=1000)\n",
    "model2 = opt_ls.linesearch(f, method = 'basic Newton’s method', print_every_n_step=1)\n",
    "model3 = opt_ls.linesearch(f, method = 'BFGS', print_every_n_step=1)"
   ]
  },
  {
   "cell_type": "markdown",
   "metadata": {},
   "source": [
    "## 1. Rosenbrock function (2.22) in the book with x0 = (1.2, 1.2)T"
   ]
  },
  {
   "cell_type": "code",
   "execution_count": 5,
   "metadata": {},
   "outputs": [
    {
     "name": "stdout",
     "output_type": "stream",
     "text": [
      "===========================================\n",
      "steepest descent\n",
      "-------------------------------------------\n",
      " iter            f       ||p_k||        alpha   #func   ||grad_f|| \n",
      "   0     5.8000E+00    0.0000E+00   0.0000E+00      0    1.2517E+02\n",
      "1000     1.7322E-04    1.6910E-01   1.9531E-03     10    1.6841E-01\n",
      "2000     3.3610E-05    9.5571E-03   1.9531E-03     10    9.3822E-03\n",
      "3000     6.8272E-06    4.7113E-03   1.9531E-03     10    4.5843E-03\n",
      "4000     1.3652E-06    1.7329E-03   1.9531E-03     10    1.6884E-03\n",
      "5000     2.7113E-07    7.1124E-04   1.9531E-03     10    6.9402E-04\n",
      "6000     5.3695E-08    5.0742E-04   1.9531E-03     10    4.8922E-04\n",
      "7000     1.0615E-08    2.3007E-04   1.9531E-03     10    2.2168E-04\n",
      "8000     2.0963E-09    8.3030E-05   1.9531E-03     10    8.0288E-05\n",
      "9000     4.1401E-10    2.8406E-05   1.9531E-03     10    2.7672E-05\n",
      "10000     8.1803E-11    2.0619E-05   1.9531E-03     10    1.9856E-05\n",
      "11000     1.6145E-11    6.3878E-06   1.9531E-03     10    6.1966E-06\n",
      "12000     3.1916E-12    4.7089E-06   1.9531E-03     10    4.5266E-06\n",
      "13000     6.2956E-13    1.4061E-06   1.9531E-03     10    1.3602E-06\n",
      "===========================================\n",
      "complete in 13011 iter: obj = 6.184392E-13\n",
      "===========================================\n",
      "\n",
      "\n",
      "===========================================\n",
      "basic Newton’s method\n",
      "-------------------------------------------\n",
      " iter            f       ||p_k||        alpha   #func   ||grad_f|| \n",
      "   0     5.8000E+00    0.0000E+00   0.0000E+00      0    1.2517E+02\n",
      "   1     3.8384E-02    2.3024E-01   1.0000E+00      1    3.9982E-01\n",
      "   2     1.8762E-02    5.0621E-01   5.0000E-01      2    4.7849E+00\n",
      "   3     4.2892E-03    7.2991E-02   1.0000E+00      1    6.5635E-01\n",
      "   4     9.0327E-04    1.2244E-01   1.0000E+00      1    1.2658E+00\n",
      "   5     1.8514E-05    1.5032E-02   1.0000E+00      1    3.4658E-02\n",
      "   6     3.3970E-08    9.3942E-03   1.0000E+00      1    8.0198E-03\n",
      "   7     3.2267E-14    9.6625E-05   1.0000E+00      1    1.4519E-06\n",
      "   8     1.0485E-25    3.9546E-07   1.0000E+00      1    1.4342E-11\n",
      "===========================================\n",
      "complete in    8 iter: obj = 1.048542E-25\n",
      "===========================================\n",
      "\n",
      "\n",
      "===========================================\n",
      "BFGS\n",
      "-------------------------------------------\n",
      " iter            f       ||p_k||        alpha   #func   ||grad_f|| \n",
      "   0     5.8000E+00    0.0000E+00   0.0000E+00      0    1.2517E+02\n",
      "   1     3.8384E-02    2.3024E-01   1.0000E+00      1    3.9982E-01\n",
      "   2     3.6833E-02    1.0353E-02   1.0000E+00      1    3.9148E-01\n",
      "   3     1.8367E-02    4.9519E-01   5.0000E-01      2    4.7730E+00\n",
      "   4     1.1197E-02    2.8247E-02   1.0000E+00      1    8.9463E-01\n",
      "   5     4.7462E-03    8.9140E-02   1.0000E+00      1    7.6860E-01\n",
      "   6     2.0647E-03    1.1525E-01   1.0000E+00      1    1.9119E+00\n",
      "   7     4.3104E-04    8.0257E-03   1.0000E+00      1    1.2269E-01\n",
      "   8     6.8366E-05    2.8333E-02   1.0000E+00      1    8.0965E-02\n",
      "   9     2.5754E-06    1.7277E-02   1.0000E+00      1    6.9831E-02\n",
      "  10     1.8623E-08    5.6116E-04   1.0000E+00      1    1.9542E-03\n",
      "  11     1.3430E-12    2.9075E-04   1.0000E+00      1    4.4557E-05\n",
      "  12     1.3267E-17    1.3345E-06   1.0000E+00      1    1.1100E-07\n",
      "===========================================\n",
      "complete in   12 iter: obj = 1.326746E-17\n",
      "===========================================\n",
      "\n",
      "\n"
     ]
    }
   ],
   "source": [
    "# run different methods\n",
    "x0 = np.array([1.2, 1.2])\n",
    "model1.run(x0,maxiter=30000)\n",
    "model2.run(x0)\n",
    "model3.run(x0)"
   ]
  },
  {
   "cell_type": "code",
   "execution_count": 6,
   "metadata": {},
   "outputs": [
    {
     "name": "stdout",
     "output_type": "stream",
     "text": [
      "Results from steepest descent: [1.00000078 1.00000157]\n",
      "Results from basic Newton’s method: [1. 1.]\n",
      "Results from BFGS: [1.         1.00000001]\n"
     ]
    }
   ],
   "source": [
    "# compare the results from different methods\n",
    "print('Results from {}: {}'.format(model1.method, model1.x.squeeze() ) )\n",
    "print('Results from {}: {}'.format(model2.method, model2.x.squeeze() ) )\n",
    "print('Results from {}: {}'.format(model3.method, model3.x.squeeze() ) )"
   ]
  },
  {
   "cell_type": "markdown",
   "metadata": {},
   "source": [
    "Newton's method convereges the fast, as expected. Steepest descent converges way more slower, which takes more than 10,000 iterations. Also within each iteration, it evaluates more time to get a step that satisfied Wolfe condtion.\n",
    "\n",
    "Their solutions are closed to each other.\n"
   ]
  },
  {
   "cell_type": "markdown",
   "metadata": {},
   "source": [
    "## 2. Rosenbrock function (2.22) in the book with x0 = (−1.2, 1)T"
   ]
  },
  {
   "cell_type": "code",
   "execution_count": 7,
   "metadata": {
    "scrolled": false
   },
   "outputs": [
    {
     "name": "stdout",
     "output_type": "stream",
     "text": [
      "===========================================\n",
      "steepest descent\n",
      "-------------------------------------------\n",
      " iter            f       ||p_k||        alpha   #func   ||grad_f|| \n",
      "   0     2.4200E+01    0.0000E+00   0.0000E+00      0    2.3287E+02\n",
      "1000     7.4842E-04    3.5594E-02   3.9062E-03      9    7.3897E-02\n",
      "2000     1.2928E-04    1.6139E-02   1.9531E-03     10    1.5386E-02\n",
      "3000     2.4159E-05    9.1510E-03   1.9531E-03     10    8.7374E-03\n",
      "4000     4.6575E-06    3.6675E-03   1.9531E-03     10    3.5340E-03\n",
      "5000     9.1048E-07    2.1106E-03   1.9531E-03     10    2.0282E-03\n",
      "6000     1.7887E-07    7.0667E-04   1.9531E-03     10    6.8393E-04\n",
      "7000     3.5249E-08    2.5753E-04   1.9531E-03     10    2.5094E-04\n",
      "8000     6.9537E-09    1.3066E-04   1.9531E-03     10    1.2678E-04\n",
      "9000     1.3732E-09    8.1268E-05   1.9531E-03     10    7.8295E-05\n",
      "10000     2.7098E-10    2.3772E-05   1.9531E-03     10    2.3128E-05\n",
      "11000     5.3530E-11    1.6331E-05   1.9531E-03     10    1.5731E-05\n",
      "12000     1.0564E-11    4.9601E-06   1.9531E-03     10    4.8173E-06\n",
      "13000     2.0878E-12    3.5601E-06   1.9531E-03     10    3.4248E-06\n",
      "===========================================\n",
      "complete in 13756 iter: obj = 6.120022E-13\n",
      "===========================================\n",
      "\n",
      "\n",
      "===========================================\n",
      "basic Newton’s method\n",
      "-------------------------------------------\n",
      " iter            f       ||p_k||        alpha   #func   ||grad_f|| \n",
      "   0     2.4200E+01    0.0000E+00   0.0000E+00      0    2.3287E+02\n",
      "   1     4.7319E+00    3.8148E-01   1.0000E+00      1    4.6394E+00\n",
      "   2     4.0874E+00    4.9509E+00   1.2500E-01      4    2.8550E+01\n",
      "   3     3.2287E+00    2.6774E-01   1.0000E+00      1    1.1572E+01\n",
      "   4     3.2139E+00    5.8011E-01   1.0000E+00      1    3.0326E+01\n",
      "   5     1.9426E+00    7.9269E-02   1.0000E+00      1    3.6041E+00\n",
      "   6     1.6002E+00    9.3155E-01   2.5000E-01      3    9.2484E+00\n",
      "   7     1.1784E+00    1.4554E-01   1.0000E+00      1    4.9198E+00\n",
      "   8     9.2241E-01    2.0787E-01   1.0000E+00      1    8.6643E+00\n",
      "   9     5.9749E-01    1.1234E-01   1.0000E+00      1    1.7788E+00\n",
      "  10     4.5263E-01    3.3090E-01   5.0000E-01      2    5.8778E+00\n",
      "  11     2.8076E-01    1.4266E-01   1.0000E+00      1    2.1764E+00\n",
      "  12     2.1139E-01    2.4785E-01   1.0000E+00      1    9.4013E+00\n",
      "  13     8.9020E-02    1.0657E-01   1.0000E+00      1    4.9206E-01\n",
      "  14     5.1535E-02    3.4748E-01   5.0000E-01      2    3.9242E+00\n",
      "  15     1.9993E-02    1.2451E-01   1.0000E+00      1    1.2421E+00\n",
      "  16     7.1692E-03    1.6003E-01   1.0000E+00      1    2.5331E+00\n",
      "  17     1.0696E-03    6.0799E-02   1.0000E+00      1    2.3758E-01\n",
      "  18     7.7768E-05    6.2085E-02   1.0000E+00      1    3.4827E-01\n",
      "  19     2.8247E-07    8.0074E-03   1.0000E+00      1    3.8742E-03\n",
      "  20     8.5171E-12    1.1707E-03   1.0000E+00      1    1.1872E-04\n",
      "  21     3.7446E-21    2.7268E-06   1.0000E+00      1    4.4738E-10\n",
      "===========================================\n",
      "complete in   21 iter: obj = 3.744562E-21\n",
      "===========================================\n",
      "\n",
      "\n",
      "===========================================\n",
      "BFGS\n",
      "-------------------------------------------\n",
      " iter            f       ||p_k||        alpha   #func   ||grad_f|| \n",
      "   0     2.4200E+01    0.0000E+00   0.0000E+00      0    2.3287E+02\n",
      "   1     4.7319E+00    3.8148E-01   1.0000E+00      1    4.6394E+00\n",
      "   2     4.6256E+00    6.2225E-02   1.0000E+00      1    4.5846E+00\n",
      "   3     4.0592E+00    4.8480E+00   1.2500E-01      4    2.9903E+01\n",
      "   4     3.7417E+00    8.0539E-02   1.0000E+00      1    1.0150E+01\n",
      "   5     3.1879E+00    3.2221E-01   1.0000E+00      1    1.2160E+01\n",
      "   6     2.9397E+00    5.1775E-01   5.0000E-01      2    1.9653E+01\n",
      "   7     2.4842E+00    1.0560E-01   1.0000E+00      1    1.0736E+01\n",
      "   8     2.1907E+00    2.6315E-01   1.0000E+00      1    1.5596E+01\n",
      "   9     1.6469E+00    9.0602E-02   1.0000E+00      1    2.2341E+00\n",
      "  10     1.4072E+00    3.3247E-01   5.0000E-01      2    7.3940E+00\n",
      "  11     1.2678E+00    6.7629E-02   1.0000E+00      1    7.1290E+00\n",
      "  12     9.1313E-01    1.3152E-01   1.0000E+00      1    2.4787E+00\n",
      "  13     7.6855E-01    3.9257E-01   2.5000E-01      3    3.9083E+00\n",
      "  14     7.0265E-01    9.0358E-02   1.0000E+00      1    6.9672E+00\n",
      "  15     5.5162E-01    5.9246E-02   1.0000E+00      1    3.4817E+00\n",
      "  16     4.1909E-01    1.5016E-01   1.0000E+00      1    5.9121E+00\n",
      "  17     2.7801E-01    1.0860E-01   1.0000E+00      1    1.1304E+00\n",
      "  18     2.1844E-01    2.6559E-01   5.0000E-01      2    5.2260E+00\n",
      "  19     1.7336E-01    4.6046E-02   1.0000E+00      1    3.0018E+00\n",
      "  20     1.3616E-01    2.0331E-01   1.0000E+00      1    8.3834E+00\n",
      "  21     7.5198E-02    3.6968E-02   1.0000E+00      1    2.5751E+00\n",
      "  22     4.3439E-02    1.0754E-01   1.0000E+00      1    1.2401E+00\n",
      "  23     3.5962E-02    1.5684E-01   5.0000E-01      2    3.6622E+00\n",
      "  24     2.5482E-02    3.4229E-02   1.0000E+00      1    2.4178E+00\n",
      "  25     1.0137E-02    1.1428E-01   1.0000E+00      1    1.7719E+00\n",
      "  26     4.3474E-03    5.6358E-02   1.0000E+00      1    5.9473E-01\n",
      "  27     1.3474E-03    1.5130E-01   5.0000E-01      2    9.6516E-01\n",
      "  28     5.0471E-04    2.3968E-02   1.0000E+00      1    5.6723E-01\n",
      "  29     4.5275E-05    2.6134E-02   1.0000E+00      1    5.0364E-02\n",
      "  30     1.1729E-05    1.6353E-02   1.0000E+00      1    1.5024E-01\n",
      "  31     7.4887E-07    1.4699E-03   1.0000E+00      1    3.8693E-02\n",
      "  32     6.2574E-11    1.1182E-04   1.0000E+00      1    7.0720E-06\n",
      "  33     2.1026E-14    1.7378E-05   1.0000E+00      1    4.2968E-07\n",
      "===========================================\n",
      "complete in   33 iter: obj = 2.102607E-14\n",
      "===========================================\n",
      "\n",
      "\n"
     ]
    }
   ],
   "source": [
    "x0 = np.array([-1.2, 1])\n",
    "model1.run(x0,maxiter=30000)\n",
    "model2.run(x0)\n",
    "model3.run(x0)"
   ]
  },
  {
   "cell_type": "code",
   "execution_count": 8,
   "metadata": {},
   "outputs": [
    {
     "name": "stdout",
     "output_type": "stream",
     "text": [
      "Results from steepest descent: [0.99999922 0.99999843]\n",
      "Results from basic Newton’s method: [1. 1.]\n",
      "Results from BFGS: [0.99999986 0.99999971]\n"
     ]
    }
   ],
   "source": [
    "# compare the results from different methods\n",
    "print('Results from {}: {}'.format(model1.method, model1.x.squeeze() ) )\n",
    "print('Results from {}: {}'.format(model2.method, model2.x.squeeze() ) )\n",
    "print('Results from {}: {}'.format(model3.method, model3.x.squeeze() ) )"
   ]
  },
  {
   "cell_type": "markdown",
   "metadata": {},
   "source": [
    "Similar performace as in part 1, while BFGS takes longer to for this \"harder\" initial point."
   ]
  },
  {
   "cell_type": "markdown",
   "metadata": {},
   "source": [
    "## 3. Find the minima for the extended  Rosenbrock functions, n=100"
   ]
  },
  {
   "cell_type": "markdown",
   "metadata": {},
   "source": [
    "compare the performance of different algorithm"
   ]
  },
  {
   "cell_type": "code",
   "execution_count": 11,
   "metadata": {
    "scrolled": false
   },
   "outputs": [
    {
     "name": "stdout",
     "output_type": "stream",
     "text": [
      "\n",
      "\n",
      "------------------------------------------------------------\n",
      "-------------------- starting point: [-1, ... , -1]T\n",
      "------------------------------------------------------------\n",
      "===========================================\n",
      "steepest descent\n",
      "-------------------------------------------\n",
      " iter            f       ||p_k||        alpha   #func   ||grad_f|| \n",
      "   0     3.9996E+04    0.0000E+00   0.0000E+00      0    1.1953E+04\n",
      "1000     1.1733E-01    1.1870E+00   9.7656E-04     11    9.4630E-01\n",
      "2000     2.1481E-02    2.1749E-01   1.9531E-03     10    3.9616E-01\n",
      "3000     5.2827E-03    1.0390E-01   1.9531E-03     10    1.9249E-01\n",
      "4000     1.4437E-03    5.2362E-02   1.9531E-03     10    9.6133E-02\n",
      "5000     4.1397E-04    6.1569E-02   9.7656E-04     11    4.8638E-02\n",
      "6000     1.2159E-04    3.1271E-02   9.7656E-04     11    2.4819E-02\n",
      "7000     3.6167E-05    1.5965E-02   9.7656E-04     11    1.2741E-02\n",
      "8000     1.0830E-05    8.1811E-03   9.7656E-04     11    6.5712E-03\n",
      "9000     3.2551E-06    4.2050E-03   9.7656E-04     11    3.4017E-03\n",
      "10000     9.8031E-07    2.1670E-03   9.7656E-04     11    1.7668E-03\n",
      "11000     2.9556E-07    1.1195E-03   9.7656E-04     11    9.2052E-04\n",
      "12000     8.9162E-08    5.7975E-04   9.7656E-04     11    4.8107E-04\n",
      "13000     2.6907E-08    3.0100E-04   9.7656E-04     11    2.5218E-04\n",
      "14000     8.1215E-09    1.5669E-04   9.7656E-04     11    1.3260E-04\n",
      "15000     2.4516E-09    8.1796E-05   9.7656E-04     11    6.9942E-05\n",
      "16000     7.4010E-10    4.2822E-05   9.7656E-04     11    3.7007E-05\n",
      "17000     2.2367E-10    2.2485E-05   1.9531E-03     10    4.4888E-05\n",
      "18000     6.7506E-11    1.1842E-05   1.9531E-03     10    2.3015E-05\n",
      "19000     2.0375E-11    6.2564E-06   1.9531E-03     10    1.1817E-05\n",
      "20000     6.1502E-12    3.3155E-06   1.9531E-03     10    6.0763E-06\n",
      "21000     1.8565E-12    3.9537E-06   9.7656E-04     11    3.1299E-06\n",
      "22000     5.6040E-13    2.0285E-06   9.7656E-04     11    1.6152E-06\n",
      "===========================================\n",
      "complete in 22029 iter: obj = 5.411792E-13\n",
      "===========================================\n",
      "\n",
      "\n",
      "===========================================\n",
      "basic Newton’s method\n",
      "-------------------------------------------\n",
      " iter            f       ||p_k||        alpha   #func   ||grad_f|| \n",
      "   0     3.9996E+04    0.0000E+00   0.0000E+00      0    1.1953E+04\n",
      "  20     8.9003E+01    3.2819E-01   1.0000E+00      1    9.6437E+00\n",
      "  40     7.5647E+01    3.5223E-01   1.0000E+00      1    1.1327E+01\n",
      "  60     6.2037E+01    2.1806E-01   1.0000E+00      1    5.1582E+00\n",
      "  80     4.8510E+01    2.0711E-01   1.0000E+00      1    4.5757E+00\n",
      " 100     3.5076E+01    3.0101E-01   1.0000E+00      1    8.1904E+00\n",
      " 120     2.1522E+01    3.0758E-01   1.0000E+00      1    8.3510E+00\n",
      " 140     7.9897E+00    3.4173E-01   1.0000E+00      1    1.0369E+01\n",
      " 160     2.0531E-11    1.5280E-03   1.0000E+00      1    1.7982E-04\n",
      "===========================================\n",
      "complete in  161 iter: obj = 9.817852E-22\n",
      "===========================================\n",
      "\n",
      "\n",
      "===========================================\n",
      "BFGS\n",
      "-------------------------------------------\n",
      " iter            f       ||p_k||        alpha   #func   ||grad_f|| \n",
      "   0     3.9996E+04    0.0000E+00   0.0000E+00      0    1.1953E+04\n",
      "  20     9.8168E+01    1.8152E-02   1.0000E+00      1    7.4768E+00\n",
      "  40     9.5740E+01    3.9259E-02   1.0000E+00      1    1.0397E+01\n",
      "  60     9.2688E+01    3.5093E-02   1.0000E+00      1    1.2386E+01\n",
      "  80     8.9757E+01    9.5579E-02   1.0000E+00      1    8.7811E+00\n",
      " 100     8.6890E+01    4.6422E-02   1.0000E+00      1    1.1377E+01\n",
      " 120     8.3812E+01    1.2644E-01   1.0000E+00      1    1.0540E+01\n",
      " 140     8.0876E+01    2.7862E-02   1.0000E+00      1    9.8050E+00\n",
      " 160     7.7935E+01    7.0269E-02   1.0000E+00      1    1.0723E+01\n",
      " 180     7.5050E+01    1.3438E-01   1.0000E+00      1    1.1210E+01\n",
      " 200     7.2185E+01    4.9191E-02   1.0000E+00      1    1.1331E+01\n",
      " 220     6.9470E+01    5.5984E-02   1.0000E+00      1    1.2169E+01\n",
      " 240     6.6544E+01    7.7907E-02   1.0000E+00      1    1.2516E+01\n",
      " 260     6.3673E+01    2.4665E-02   1.0000E+00      1    9.5679E+00\n",
      " 280     6.0754E+01    5.5555E-02   1.0000E+00      1    1.0223E+01\n",
      " 300     5.7750E+01    1.2901E-01   1.0000E+00      1    1.1190E+01\n",
      " 320     5.4961E+01    1.0576E-01   1.0000E+00      1    1.3085E+01\n",
      " 340     5.2054E+01    2.8781E-02   1.0000E+00      1    9.8713E+00\n",
      " 360     4.9056E+01    9.2917E-02   1.0000E+00      1    7.8609E+00\n",
      " 380     4.6124E+01    6.3884E-02   1.0000E+00      1    1.0916E+01\n",
      " 400     4.3146E+01    6.4587E-02   1.0000E+00      1    1.0648E+01\n",
      " 420     3.9768E+01    1.1970E-01   1.0000E+00      1    1.1788E+01\n",
      " 440     3.6028E+01    3.1165E-02   1.0000E+00      1    9.5757E+00\n",
      " 460     3.1703E+01    7.9608E-02   1.0000E+00      1    1.7713E+01\n",
      " 480     2.6710E+01    4.8050E-02   1.0000E+00      1    8.0082E+00\n",
      " 500     2.1411E+01    7.8647E-02   1.0000E+00      1    1.1298E+01\n",
      " 520     1.5891E+01    1.4416E-01   5.0000E-01      2    2.0849E+01\n",
      " 540     1.0656E+01    1.3660E-01   1.0000E+00      1    1.7419E+01\n",
      " 560     5.0128E+00    1.2071E-01   1.0000E+00      1    6.8284E+00\n",
      " 580     4.8963E-01    2.9882E-01   5.0000E-01      2    6.5725E+00\n",
      " 600     6.5863E-10    4.6121E-05   1.0000E+00      1    1.1555E-03\n",
      "===========================================\n",
      "complete in  606 iter: obj = 1.324129E-16\n",
      "===========================================\n",
      "\n",
      "\n"
     ]
    }
   ],
   "source": [
    "# 1. chose a dimension\n",
    "n = 100\n",
    "\n",
    "# 2. initialize for different methods\n",
    "importlib.reload(opt_ls)\n",
    "model1 = opt_ls.linesearch(f_ext[n], method = 'steepest descent', print_every_n_step=1000)\n",
    "model2 = opt_ls.linesearch(f_ext[n], method = 'basic Newton’s method', print_every_n_step=20)\n",
    "model3 = opt_ls.linesearch(f_ext[n], method = 'BFGS', print_every_n_step=20)\n",
    "\n",
    "# 3. define starting point and run: [-1]*n\n",
    "# (1) print staring point\n",
    "print('\\n')\n",
    "print('-'*60)\n",
    "print('-'*20+' starting point: [-1, ... , -1]T')\n",
    "print('-'*60)\n",
    "x0 = np.array( [-1.0]*n )\n",
    "# (2) run\n",
    "model1.run(x0, maxiter=30000)\n",
    "model2.run(x0)\n",
    "model3.run(x0, maxiter=30000)"
   ]
  },
  {
   "cell_type": "code",
   "execution_count": 12,
   "metadata": {},
   "outputs": [
    {
     "name": "stdout",
     "output_type": "stream",
     "text": [
      "52.3 s ± 1.3 s per loop (mean ± std. dev. of 7 runs, 1 loop each)\n",
      "210 ms ± 7.5 ms per loop (mean ± std. dev. of 7 runs, 1 loop each)\n",
      "432 ms ± 22.2 ms per loop (mean ± std. dev. of 7 runs, 1 loop each)\n"
     ]
    }
   ],
   "source": [
    "# compare the time for different algorithm\n",
    "%timeit model1.run(x0, maxiter=30000, print_every_n_step=False, print_results=False)\n",
    "%timeit model2.run(x0, maxiter=30000, print_every_n_step=False, print_results=False)\n",
    "%timeit model3.run(x0, maxiter=30000, print_every_n_step=False, print_results=False)"
   ]
  },
  {
   "cell_type": "markdown",
   "metadata": {},
   "source": [
    "Newton's method is the fastest. If the function had a more expensive hessian, BFGS might be faster than Newton's method."
   ]
  },
  {
   "cell_type": "code",
   "execution_count": null,
   "metadata": {},
   "outputs": [],
   "source": []
  }
 ],
 "metadata": {
  "kernelspec": {
   "display_name": "Python 3",
   "language": "python",
   "name": "python3"
  },
  "language_info": {
   "codemirror_mode": {
    "name": "ipython",
    "version": 3
   },
   "file_extension": ".py",
   "mimetype": "text/x-python",
   "name": "python",
   "nbconvert_exporter": "python",
   "pygments_lexer": "ipython3",
   "version": "3.8.3"
  }
 },
 "nbformat": 4,
 "nbformat_minor": 4
}
