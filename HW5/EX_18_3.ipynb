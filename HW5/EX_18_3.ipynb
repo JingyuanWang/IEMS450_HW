{
 "cells": [
  {
   "cell_type": "code",
   "execution_count": 269,
   "metadata": {},
   "outputs": [
    {
     "name": "stdout",
     "output_type": "stream",
     "text": [
      "Automatic pdb calling has been turned ON\n"
     ]
    },
    {
     "data": {
      "text/plain": [
       "<module 'solve' from '/Users/jingyuanwang/GitHub/IEMS450_HW/HW5/functions/solve.py'>"
      ]
     },
     "execution_count": 269,
     "metadata": {},
     "output_type": "execute_result"
    }
   ],
   "source": [
    "import numpy as np\n",
    "import os,sys,inspect\n",
    "import importlib\n",
    "%pdb on\n",
    "\n",
    "# (1) find the path\n",
    "dirpath = os.getcwd()\n",
    "i = 0\n",
    "while(os.path.basename(dirpath) != \"IEMS450_HW\") and i <10:\n",
    "    dirpath = os.path.dirname(dirpath) \n",
    "    i = i + 1\n",
    "targetdir = dirpath + '/HW5/functions'\n",
    "if targetdir not in sys.path:\n",
    "    sys.path.insert(0,targetdir)\n",
    "\n",
    "import solve as solve\n",
    "importlib.reload(solve)"
   ]
  },
  {
   "cell_type": "code",
   "execution_count": 270,
   "metadata": {},
   "outputs": [],
   "source": [
    "f = solve.obj_function()\n",
    "c = solve.constraints()\n",
    "x_true = np.array(  [-1.71, 1.59, 1.82, -0.763, -0.763] )\n",
    "\n",
    "model = solve.SQP(f,c)"
   ]
  },
  {
   "cell_type": "code",
   "execution_count": null,
   "metadata": {},
   "outputs": [],
   "source": []
  },
  {
   "cell_type": "code",
   "execution_count": 271,
   "metadata": {},
   "outputs": [
    {
     "name": "stdout",
     "output_type": "stream",
     "text": [
      "[-1.70800095  1.60119498  1.82951925 -0.76543021 -0.76543021]\n"
     ]
    }
   ],
   "source": [
    "x0       = np.array(  [-1.8, 1.7, 1.9, -0.8, -0.8] )\n",
    "lambda_0 = np.ones((3,))\n",
    "x        = model.run(x0, lambda_0)\n",
    "print(x)"
   ]
  },
  {
   "cell_type": "code",
   "execution_count": 272,
   "metadata": {},
   "outputs": [
    {
     "name": "stdout",
     "output_type": "stream",
     "text": [
      "[-1.64742036  1.63908144  1.84171871 -0.77701057 -0.77701057]\n"
     ]
    }
   ],
   "source": [
    "x0       = x0 + 0.1\n",
    "x       = model.run(x0, lambda_0)\n",
    "print(x)"
   ]
  },
  {
   "cell_type": "code",
   "execution_count": 274,
   "metadata": {},
   "outputs": [
    {
     "name": "stdout",
     "output_type": "stream",
     "text": [
      "[-1.71   1.59   1.82  -0.763 -0.763]\n"
     ]
    }
   ],
   "source": [
    "print(x_true)"
   ]
  },
  {
   "cell_type": "code",
   "execution_count": null,
   "metadata": {},
   "outputs": [],
   "source": []
  }
 ],
 "metadata": {
  "kernelspec": {
   "display_name": "Python 3",
   "language": "python",
   "name": "python3"
  },
  "language_info": {
   "codemirror_mode": {
    "name": "ipython",
    "version": 3
   },
   "file_extension": ".py",
   "mimetype": "text/x-python",
   "name": "python",
   "nbconvert_exporter": "python",
   "pygments_lexer": "ipython3",
   "version": "3.8.3"
  }
 },
 "nbformat": 4,
 "nbformat_minor": 4
}
