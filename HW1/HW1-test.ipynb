{
 "cells": [
  {
   "cell_type": "code",
   "execution_count": 1,
   "metadata": {},
   "outputs": [
    {
     "data": {
      "text/plain": [
       "<module 'opt_quadraticfunc' from '/Users/jingyuanwang/GitHub/IEMS450_HW/HW1/functions/opt_quadraticfunc.py'>"
      ]
     },
     "execution_count": 1,
     "metadata": {},
     "output_type": "execute_result"
    }
   ],
   "source": [
    "import numpy as np\n",
    "import os,sys,inspect\n",
    "import importlib\n",
    "\n",
    "randseed = 13344\n",
    "\n",
    "# import my functions:\n",
    "dirpath = os.getcwd()\n",
    "i = 0\n",
    "while(os.path.basename(dirpath) != \"IEMS450_HW\") and i <10:\n",
    "    dirpath = os.path.dirname(dirpath) \n",
    "    i = i + 1\n",
    "targetdir = dirpath + '/HW1/functions'\n",
    "if targetdir not in sys.path:\n",
    "    sys.path.insert(0,targetdir)\n",
    "\n",
    "import objective_function as obj\n",
    "importlib.reload(obj)\n",
    "import opt_quadraticfunc as opt_q\n",
    "importlib.reload(opt_q)"
   ]
  },
  {
   "cell_type": "markdown",
   "metadata": {},
   "source": [
    "# Initialize"
   ]
  },
  {
   "cell_type": "code",
   "execution_count": 2,
   "metadata": {},
   "outputs": [],
   "source": [
    "# set up the problem\n",
    "np.random.seed(randseed)\n",
    "m, L = 0.01, 1\n",
    "D = 10 ** np.random.rand(100)\n",
    "D = (D - np.min(D)) / (np.max(D) - np.min(D)) \n",
    "A = np.diag(m + D * (L - m))\n",
    "\n",
    "# save the function\n",
    "f = obj.f(A)"
   ]
  },
  {
   "cell_type": "markdown",
   "metadata": {},
   "source": [
    "# Test the functions"
   ]
  },
  {
   "cell_type": "code",
   "execution_count": 3,
   "metadata": {},
   "outputs": [],
   "source": [
    "# starting point\n",
    "np.random.seed(randseed)\n",
    "x0 = np.random.rand(100)"
   ]
  },
  {
   "cell_type": "code",
   "execution_count": 4,
   "metadata": {},
   "outputs": [],
   "source": [
    "importlib.reload(opt_q)\n",
    "\n",
    "model1 = opt_q.steepest_descent(f, method = 'constant step length', alpha=1/(f.L), print_every_n_step=20)\n",
    "model2 = opt_q.steepest_descent(f, method = 'exact line search'   , print_every_n_step=20)\n",
    "model3 = opt_q.steepest_descent(f, method = 'Nesterov’s optimal method', print_every_n_step=20)\n",
    "model4 = opt_q.steepest_descent(f, method = 'heavy-ball' , print_every_n_step=20)"
   ]
  },
  {
   "cell_type": "code",
   "execution_count": 5,
   "metadata": {
    "scrolled": true
   },
   "outputs": [
    {
     "name": "stdout",
     "output_type": "stream",
     "text": [
      "======================================\n",
      "constant step length:\n",
      "iter    0: obj = 2.228320E+01, improve = 9.976717E+03\n",
      "iter   20: obj = 3.035643E-03, improve = 5.179141E-04\n",
      "iter   40: obj = 2.640024E-04, improve = 2.725980E-05\n",
      "iter   60: obj = 5.316639E-05, improve = 3.665371E-06\n",
      "iter   80: obj = 1.697280E-05, improve = 8.737987E-07\n",
      "iter  100: obj = 6.862465E-06, improve = 2.916852E-07\n",
      "iter  120: obj = 3.160019E-06, improve = 1.176510E-07\n",
      "iter  140: obj = 1.579634E-06, improve = 5.324680E-08\n",
      "======================================\n",
      "complete iter  155: obj = 9.760153E-07\n",
      "======================================\n",
      "\n",
      "\n",
      "======================================\n",
      "exact line search:\n",
      "iter    0: obj = 2.228320E+01, improve = 9.976717E+03\n",
      "iter   20: obj = 3.834679E-04, improve = 8.824853E-05\n",
      "iter   40: obj = 2.179636E-05, improve = 2.406543E-06\n",
      "iter   60: obj = 3.871789E-06, improve = 3.010888E-07\n",
      "iter   80: obj = 1.000715E-06, improve = 6.444444E-08\n",
      "======================================\n",
      "complete iter   81: obj = 9.405860E-07\n",
      "======================================\n",
      "\n",
      "\n",
      "======================================\n",
      "Nesterov’s optimal method:\n",
      "iter    0: obj = 2.228320E+01, improve = 9.976717E+03\n",
      "iter   20: obj = 1.464260E-04, improve = 5.329799E-05\n",
      "iter   40: obj = 4.313265E-06, improve = 1.140341E-06\n",
      "======================================\n",
      "complete iter   53: obj = 9.898626E-07\n",
      "======================================\n",
      "\n",
      "\n",
      "======================================\n",
      "heavy-ball:\n",
      "iter    0: obj = 2.228320E+01, improve = 9.976717E+03\n",
      "iter   20: obj = 7.623674E-01, improve = 8.686158E-02\n",
      "iter   40: obj = 1.365286E-02, improve = 2.035921E-03\n",
      "iter   60: obj = 2.726605E-04, improve = 9.828647E-05\n",
      "iter   80: obj = 4.617822E-06, improve = 1.690022E-06\n",
      "======================================\n",
      "complete iter   88: obj = 9.418273E-07\n",
      "======================================\n",
      "\n",
      "\n"
     ]
    }
   ],
   "source": [
    "model1.run(x0)\n",
    "model2.run(x0)\n",
    "model3.run(x0)\n",
    "model4.run(x0)"
   ]
  },
  {
   "cell_type": "markdown",
   "metadata": {},
   "source": [
    "## check scipy"
   ]
  },
  {
   "cell_type": "code",
   "execution_count": 6,
   "metadata": {},
   "outputs": [],
   "source": [
    "import scipy.optimize as opt"
   ]
  },
  {
   "cell_type": "code",
   "execution_count": 7,
   "metadata": {
    "scrolled": true
   },
   "outputs": [],
   "source": [
    "#opt.minimize(f.value, x0, jac=f.der_1st, hess=f.der_2nd, method = 'Newton-CG')"
   ]
  },
  {
   "cell_type": "markdown",
   "metadata": {},
   "source": [
    "# Perform 10 trial runs, varying the staringpoint, and report the averaged the number of iterations required for convergence."
   ]
  },
  {
   "cell_type": "code",
   "execution_count": 8,
   "metadata": {},
   "outputs": [],
   "source": [
    "# ---- I. starting point\n",
    "np.random.seed(randseed)\n",
    "x_0 = {}\n",
    "for i in range(10):\n",
    "    x_0[i] = np.random.rand(100)"
   ]
  },
  {
   "cell_type": "code",
   "execution_count": 9,
   "metadata": {},
   "outputs": [],
   "source": [
    "# ---- II. run optimization\n",
    "required_steps = {'constant step length': [],\n",
    "                  'exact line search'   : [],\n",
    "                  'Nesterov’s optimal method' : [],\n",
    "                  'heavy-ball' : []}\n",
    "\n",
    "# initialize the methods\n",
    "importlib.reload(opt_q)\n",
    "model1 = opt_q.steepest_descent(f, method = 'constant step length', alpha=1/(f.L), print_results=False)\n",
    "model2 = opt_q.steepest_descent(f, method = 'exact line search'   , print_results=False)\n",
    "model3 = opt_q.steepest_descent(f, method = 'Nesterov’s optimal method', print_results=False)\n",
    "model4 = opt_q.steepest_descent(f, method = 'heavy-ball', print_results=False)\n",
    "methods        = {'constant step length': model1,\n",
    "                  'exact line search'   : model2,\n",
    "                  'Nesterov’s optimal method' : model3,\n",
    "                  'heavy-ball' : model4}\n",
    "\n",
    "# run for different x0\n",
    "for j in range(10):\n",
    "    for method in opt_q.steepest_descent.method_list:\n",
    "        methods[method].run(x0 = x_0[j])\n",
    "        num_iter = methods[method].i\n",
    "        # save convergent steps\n",
    "        required_steps[method] = required_steps[method] + [num_iter]"
   ]
  },
  {
   "cell_type": "code",
   "execution_count": 10,
   "metadata": {},
   "outputs": [
    {
     "name": "stdout",
     "output_type": "stream",
     "text": [
      "steepest descent - fixed steps : 376.7 constant step length \n",
      "steepest descent - fixed steps : 190.2 exact line search \n",
      "steepest descent - fixed steps : 123.2 Nesterov’s optimal method \n",
      "steepest descent - fixed steps : 84.5 heavy-ball \n"
     ]
    }
   ],
   "source": [
    "# ---- III. print\n",
    "for method in opt_q.steepest_descent.method_list:\n",
    "    steps = np.array(required_steps[method]).mean()\n",
    "    print(f'steepest descent - fixed steps : {steps :4.1f} {method} ')"
   ]
  },
  {
   "cell_type": "markdown",
   "metadata": {},
   "source": [
    "# Draw a plot of the convergence behavior on a typical run"
   ]
  },
  {
   "cell_type": "code",
   "execution_count": 11,
   "metadata": {},
   "outputs": [],
   "source": [
    "import matplotlib.pyplot as plt"
   ]
  },
  {
   "cell_type": "code",
   "execution_count": 12,
   "metadata": {},
   "outputs": [
    {
     "data": {
      "text/plain": [
       "<matplotlib.legend.Legend at 0x7f90e11c2d60>"
      ]
     },
     "execution_count": 12,
     "metadata": {},
     "output_type": "execute_result"
    },
    {
     "data": {
      "image/png": "[encoded data removed]",
      "text/plain": [
       "<Figure size 648x216 with 1 Axes>"
      ]
     },
     "metadata": {
      "needs_background": "light"
     },
     "output_type": "display_data"
    }
   ],
   "source": [
    "# draw the result of the last run\n",
    "burn_steps = 0\n",
    "stop_step  = 500\n",
    "\n",
    "plt.figure(figsize=(9, 3))\n",
    "plt.plot( np.log10( model1.obj_list[burn_steps:stop_step] ), label = model1.method)\n",
    "plt.plot( np.log10( model2.obj_list[burn_steps:stop_step] ), label = model2.method)\n",
    "plt.plot( np.log10( model3.obj_list[burn_steps:stop_step] ), label = model3.method)\n",
    "plt.plot( np.log10( model4.obj_list[burn_steps:stop_step] ), label = model4.method)\n",
    "plt.legend(loc='best')"
   ]
  },
  {
   "cell_type": "code",
   "execution_count": null,
   "metadata": {},
   "outputs": [],
   "source": []
  }
 ],
 "metadata": {
  "kernelspec": {
   "display_name": "Python 3",
   "language": "python",
   "name": "python3"
  },
  "language_info": {
   "codemirror_mode": {
    "name": "ipython",
    "version": 3
   },
   "file_extension": ".py",
   "mimetype": "text/x-python",
   "name": "python",
   "nbconvert_exporter": "python",
   "pygments_lexer": "ipython3",
   "version": "3.8.3"
  }
 },
 "nbformat": 4,
 "nbformat_minor": 4
}
