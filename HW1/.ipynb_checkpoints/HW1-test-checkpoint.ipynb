{
 "cells": [
  {
   "cell_type": "code",
   "execution_count": 19,
   "metadata": {},
   "outputs": [
    {
     "data": {
      "text/plain": [
       "<module 'objective_function' from '/Users/jingyuanwang/GitHub/IEMS450_HW/HW1/functions/objective_function.py'>"
      ]
     },
     "execution_count": 19,
     "metadata": {},
     "output_type": "execute_result"
    }
   ],
   "source": [
    "import numpy as np\n",
    "import os,sys,inspect\n",
    "import importlib\n",
    "\n",
    "randseed = 13344\n",
    "\n",
    "# import my functions:\n",
    "dirpath = os.getcwd()\n",
    "i = 0\n",
    "while(os.path.basename(dirpath) != \"IEMS450_HW\") and i <10:\n",
    "    dirpath = os.path.dirname(dirpath) \n",
    "    i = i + 1\n",
    "targetdir = dirpath + '/HW1/functions'\n",
    "if targetdir not in sys.path:\n",
    "    sys.path.insert(0,targetdir)\n",
    "\n",
    "import objective_function as obj\n",
    "importlib.reload(obj)\n",
    "import opt_quadraticfunc as opt_q\n",
    "importlib.reload(opt_q)"
   ]
  },
  {
   "cell_type": "markdown",
   "metadata": {},
   "source": [
    "# Initialize"
   ]
  },
  {
   "cell_type": "code",
   "execution_count": 20,
   "metadata": {},
   "outputs": [],
   "source": [
    "# set up the problem\n",
    "np.random.seed(randseed)\n",
    "m, L = 0.01, 1\n",
    "D = 10 ** np.random.rand(100)\n",
    "D = (D - np.min(D)) / (np.max(D) - np.min(D)) \n",
    "A = np.diag(m + D * (L - m))\n",
    "\n",
    "# save the function\n",
    "f = obj.f(A)"
   ]
  },
  {
   "cell_type": "markdown",
   "metadata": {},
   "source": [
    "# Test the functions"
   ]
  },
  {
   "cell_type": "code",
   "execution_count": 31,
   "metadata": {},
   "outputs": [],
   "source": [
    "# starting point\n",
    "np.random.seed(randseed)\n",
    "x0 = np.random.rand(100)"
   ]
  },
  {
   "cell_type": "code",
   "execution_count": 39,
   "metadata": {},
   "outputs": [],
   "source": [
    "importlib.reload(opt_q)\n",
    "\n",
    "model1 = opt_q.steepest_descent(f, method = 'constant step length', alpha=1/(f.L), print_every_n_step=20)\n",
    "model2 = opt_q.steepest_descent(f, method = 'exact line search'   , print_every_n_step=20)\n",
    "model3 = opt_q.steepest_descent(f, method = 'Nesterov’s optimal method', print_every_n_step=20)\n",
    "model4 = opt_q.steepest_descent(f, method = 'heavy-ball' , print_every_n_step=20)"
   ]
  },
  {
   "cell_type": "code",
   "execution_count": 35,
   "metadata": {
    "scrolled": true
   },
   "outputs": [
    {
     "name": "stdout",
     "output_type": "stream",
     "text": [
      "======================================\n",
      "constant step length:\n",
      "iter    0: obj = 2.228320E+01, improve = 9.976717E+03\n",
      "iter   20: obj = 3.035643E-03, improve = 5.179141E-04\n",
      "iter   40: obj = 2.640024E-04, improve = 2.725980E-05\n",
      "iter   60: obj = 5.316639E-05, improve = 3.665371E-06\n",
      "iter   80: obj = 1.697280E-05, improve = 8.737987E-07\n",
      "iter  100: obj = 6.862465E-06, improve = 2.916852E-07\n",
      "iter  120: obj = 3.160019E-06, improve = 1.176510E-07\n",
      "iter  140: obj = 1.579634E-06, improve = 5.324680E-08\n",
      "======================================\n",
      "complete iter  155: obj = 9.760153E-07\n",
      "======================================\n",
      "\n",
      "\n",
      "======================================\n",
      "exact line search:\n",
      "iter    0: obj = 2.228320E+01, improve = 9.976717E+03\n",
      "iter    1: obj = 2.020206E+00, improve = 2.026300E+01\n",
      "iter    2: obj = 4.582130E-01, improve = 1.561993E+00\n",
      "iter    3: obj = 1.644419E-01, improve = 2.937711E-01\n",
      "iter    4: obj = 7.348125E-02, improve = 9.096060E-02\n",
      "iter    5: obj = 3.878465E-02, improve = 3.469661E-02\n",
      "iter    6: obj = 2.276684E-02, improve = 1.601781E-02\n",
      "iter    7: obj = 1.445694E-02, improve = 8.309904E-03\n",
      "iter    8: obj = 9.671122E-03, improve = 4.785813E-03\n",
      "iter    9: obj = 6.732253E-03, improve = 2.938870E-03\n",
      "iter   10: obj = 4.820209E-03, improve = 1.912044E-03\n",
      "iter   11: obj = 3.530206E-03, improve = 1.290003E-03\n",
      "iter   12: obj = 2.630826E-03, improve = 8.993792E-04\n",
      "iter   13: obj = 1.990280E-03, improve = 6.405466E-04\n",
      "iter   14: obj = 1.524900E-03, improve = 4.653802E-04\n",
      "iter   15: obj = 1.182063E-03, improve = 3.428371E-04\n",
      "iter   16: obj = 9.259914E-04, improve = 2.560711E-04\n",
      "iter   17: obj = 7.327264E-04, improve = 1.932650E-04\n",
      "iter   18: obj = 5.852481E-04, improve = 1.474782E-04\n",
      "iter   19: obj = 4.717164E-04, improve = 1.135317E-04\n",
      "iter   20: obj = 3.834679E-04, improve = 8.824853E-05\n",
      "iter   21: obj = 3.143264E-04, improve = 6.914154E-05\n",
      "iter   22: obj = 2.596704E-04, improve = 5.465594E-05\n",
      "iter   23: obj = 2.161466E-04, improve = 4.352378E-05\n",
      "iter   24: obj = 1.811981E-04, improve = 3.494855E-05\n",
      "iter   25: obj = 1.529422E-04, improve = 2.825590E-05\n",
      "iter   26: obj = 1.299190E-04, improve = 2.302324E-05\n",
      "iter   27: obj = 1.110393E-04, improve = 1.887964E-05\n",
      "iter   28: obj = 9.544520E-05, improve = 1.559412E-05\n",
      "iter   29: obj = 8.248864E-05, improve = 1.295656E-05\n",
      "iter   30: obj = 7.165141E-05, improve = 1.083723E-05\n",
      "iter   31: obj = 6.253760E-05, improve = 9.113812E-06\n",
      "iter   32: obj = 5.482606E-05, improve = 7.711539E-06\n",
      "iter   33: obj = 4.826868E-05, improve = 6.557384E-06\n",
      "iter   34: obj = 4.266151E-05, improve = 5.607164E-06\n",
      "iter   35: obj = 3.784530E-05, improve = 4.816212E-06\n",
      "iter   36: obj = 3.368751E-05, improve = 4.157791E-06\n",
      "iter   37: obj = 3.008355E-05, improve = 3.603955E-06\n",
      "iter   38: obj = 2.694541E-05, improve = 3.138146E-06\n",
      "iter   39: obj = 2.420290E-05, improve = 2.742503E-06\n",
      "iter   40: obj = 2.179636E-05, improve = 2.406543E-06\n",
      "iter   41: obj = 1.967774E-05, improve = 2.118620E-06\n",
      "iter   42: obj = 1.780578E-05, improve = 1.871957E-06\n",
      "iter   43: obj = 1.614697E-05, improve = 1.658816E-06\n",
      "iter   44: obj = 1.467224E-05, improve = 1.474726E-06\n",
      "iter   45: obj = 1.335779E-05, improve = 1.314454E-06\n",
      "iter   46: obj = 1.218280E-05, improve = 1.174990E-06\n",
      "iter   47: obj = 1.113006E-05, improve = 1.052738E-06\n",
      "iter   48: obj = 1.018443E-05, improve = 9.456345E-07\n",
      "iter   49: obj = 9.333260E-06, improve = 8.511654E-07\n",
      "iter   50: obj = 8.565367E-06, improve = 7.678925E-07\n",
      "iter   51: obj = 7.871336E-06, improve = 6.940310E-07\n",
      "iter   52: obj = 7.242775E-06, improve = 6.285612E-07\n",
      "iter   53: obj = 6.672578E-06, improve = 5.701977E-07\n",
      "iter   54: obj = 6.154372E-06, improve = 5.182057E-07\n",
      "iter   55: obj = 5.682725E-06, improve = 4.716465E-07\n",
      "iter   56: obj = 5.252742E-06, improve = 4.299831E-07\n",
      "iter   57: obj = 4.860222E-06, improve = 3.925205E-07\n",
      "iter   58: obj = 4.501361E-06, improve = 3.588608E-07\n",
      "iter   59: obj = 4.172878E-06, improve = 3.284831E-07\n",
      "iter   60: obj = 3.871789E-06, improve = 3.010888E-07\n",
      "iter   61: obj = 3.595506E-06, improve = 2.762830E-07\n",
      "iter   62: obj = 3.341667E-06, improve = 2.538389E-07\n",
      "iter   63: obj = 3.108213E-06, improve = 2.334537E-07\n",
      "iter   64: obj = 2.893260E-06, improve = 2.149535E-07\n",
      "iter   65: obj = 2.695156E-06, improve = 1.981038E-07\n",
      "iter   66: obj = 2.512386E-06, improve = 1.827698E-07\n",
      "iter   67: obj = 2.343618E-06, improve = 1.687682E-07\n",
      "iter   68: obj = 2.187624E-06, improve = 1.559937E-07\n",
      "iter   69: obj = 2.043323E-06, improve = 1.443018E-07\n",
      "iter   70: obj = 1.909713E-06, improve = 1.336096E-07\n",
      "iter   71: obj = 1.785911E-06, improve = 1.238022E-07\n",
      "iter   72: obj = 1.671097E-06, improve = 1.148138E-07\n",
      "iter   73: obj = 1.564544E-06, improve = 1.065526E-07\n",
      "iter   74: obj = 1.465578E-06, improve = 9.896593E-08\n",
      "iter   75: obj = 1.373598E-06, improve = 9.197985E-08\n",
      "iter   76: obj = 1.288046E-06, improve = 8.555196E-08\n",
      "iter   77: obj = 1.208424E-06, improve = 7.962249E-08\n",
      "iter   78: obj = 1.134267E-06, improve = 7.415707E-08\n",
      "iter   79: obj = 1.065160E-06, improve = 6.910704E-08\n",
      "iter   80: obj = 1.000715E-06, improve = 6.444444E-08\n",
      "iter   81: obj = 9.405860E-07, improve = 6.012946E-08\n",
      "======================================\n",
      "complete iter   81: obj = 9.405860E-07\n",
      "======================================\n",
      "\n",
      "\n",
      "======================================\n",
      "Nesterov’s optimal method:\n",
      "iter    0: obj = 2.228320E+01, improve = 9.976717E+03\n",
      "iter   20: obj = 1.464260E-04, improve = 5.329799E-05\n",
      "iter   40: obj = 4.313265E-06, improve = 1.140341E-06\n",
      "======================================\n",
      "complete iter   53: obj = 9.898626E-07\n",
      "======================================\n",
      "\n",
      "\n",
      "======================================\n",
      "heavy-ball:\n",
      "iter    0: obj = 2.228320E+01, improve = 9.976717E+03\n",
      "step larger than 1/L\n",
      "step larger than 1/L\n",
      "step larger than 1/L\n",
      "step larger than 1/L\n",
      "step larger than 1/L\n",
      "step larger than 1/L\n",
      "step larger than 1/L\n",
      "step larger than 1/L\n",
      "step larger than 1/L\n",
      "step larger than 1/L\n",
      "step larger than 1/L\n",
      "step larger than 1/L\n",
      "step larger than 1/L\n",
      "step larger than 1/L\n",
      "step larger than 1/L\n",
      "step larger than 1/L\n",
      "step larger than 1/L\n",
      "step larger than 1/L\n",
      "step larger than 1/L\n",
      "step larger than 1/L\n",
      "iter   20: obj = 2.646750E-05, improve = 2.089263E-05\n",
      "step larger than 1/L\n",
      "step larger than 1/L\n",
      "step larger than 1/L\n",
      "step larger than 1/L\n",
      "step larger than 1/L\n",
      "step larger than 1/L\n",
      "step larger than 1/L\n",
      "step larger than 1/L\n",
      "step larger than 1/L\n",
      "step larger than 1/L\n",
      "step larger than 1/L\n",
      "step larger than 1/L\n",
      "step larger than 1/L\n",
      "step larger than 1/L\n",
      "step larger than 1/L\n",
      "step larger than 1/L\n",
      "step larger than 1/L\n",
      "======================================\n",
      "complete iter   36: obj = 9.687685E-07\n",
      "======================================\n",
      "\n",
      "\n"
     ]
    }
   ],
   "source": [
    "model1.run(x0)\n",
    "model2.run(x0)\n",
    "model3.run(x0)\n",
    "model4.run(x0)"
   ]
  },
  {
   "cell_type": "markdown",
   "metadata": {},
   "source": [
    "## check scipy"
   ]
  },
  {
   "cell_type": "code",
   "execution_count": 6,
   "metadata": {},
   "outputs": [],
   "source": [
    "import scipy.optimize as opt"
   ]
  },
  {
   "cell_type": "code",
   "execution_count": 7,
   "metadata": {
    "scrolled": true
   },
   "outputs": [],
   "source": [
    "#opt.minimize(f.value, x0, jac=f.der_1st, hess=f.der_2nd, method = 'Newton-CG')"
   ]
  },
  {
   "cell_type": "markdown",
   "metadata": {},
   "source": [
    "# Perform 10 trial runs, varying the staringpoint, and report the averaged the number of iterations required for convergence."
   ]
  },
  {
   "cell_type": "code",
   "execution_count": 30,
   "metadata": {},
   "outputs": [],
   "source": [
    "# ---- I. starting point\n",
    "np.random.seed(randseed)\n",
    "x_0 = {}\n",
    "for i in range(10):\n",
    "    x_0[i] = np.random.rand(100)"
   ]
  },
  {
   "cell_type": "code",
   "execution_count": 57,
   "metadata": {},
   "outputs": [],
   "source": [
    "# ---- II. run optimization\n",
    "required_steps = {'constant step length': [],\n",
    "                  'exact line search'   : [],\n",
    "                  'Nesterov’s optimal method' : [],\n",
    "                  'heavy-ball' : []}\n",
    "\n",
    "# initialize the methods\n",
    "importlib.reload(opt_q)\n",
    "model1 = opt_q.steepest_descent(f, method = 'constant step length', alpha=1/(f.L), print_results=False)\n",
    "model2 = opt_q.steepest_descent(f, method = 'exact line search'   , print_results=False)\n",
    "model3 = opt_q.steepest_descent(f, method = 'Nesterov’s optimal method', print_results=False)\n",
    "model4 = opt_q.steepest_descent(f, method = 'heavy-ball', print_results=False)\n",
    "methods        = {'constant step length': model1,\n",
    "                  'exact line search'   : model2,\n",
    "                  'Nesterov’s optimal method' : model3,\n",
    "                  'heavy-ball' : model4}\n",
    "\n",
    "# run for different x0\n",
    "for j in range(10):\n",
    "    for method in opt_q.steepest_descent.method_list:\n",
    "        methods[method].run(x0 = x_0[j])\n",
    "        num_iter = methods[method].i\n",
    "        # save convergent steps\n",
    "        required_steps[method] = required_steps[method] + [num_iter]"
   ]
  },
  {
   "cell_type": "code",
   "execution_count": 58,
   "metadata": {},
   "outputs": [
    {
     "name": "stdout",
     "output_type": "stream",
     "text": [
      "steepest descent - fixed steps : 376.7 constant step length \n",
      "steepest descent - fixed steps : 190.2 exact line search \n",
      "steepest descent - fixed steps : 123.2 Nesterov’s optimal method \n",
      "steepest descent - fixed steps : 89.4 heavy-ball \n"
     ]
    }
   ],
   "source": [
    "# ---- III. print\n",
    "for method in opt_q.steepest_descent.method_list:\n",
    "    steps = np.array(required_steps[method]).mean()\n",
    "    print(f'steepest descent - fixed steps : {steps :4.1f} {method} ')"
   ]
  },
  {
   "cell_type": "markdown",
   "metadata": {},
   "source": [
    "# Draw a plot of the convergence behavior on a typical run"
   ]
  },
  {
   "cell_type": "code",
   "execution_count": 8,
   "metadata": {},
   "outputs": [],
   "source": [
    "import matplotlib.pyplot as plt"
   ]
  },
  {
   "cell_type": "code",
   "execution_count": 59,
   "metadata": {},
   "outputs": [
    {
     "data": {
      "text/plain": [
       "<matplotlib.legend.Legend at 0x7ff6724709d0>"
      ]
     },
     "execution_count": 59,
     "metadata": {},
     "output_type": "execute_result"
    },
    {
     "data": {
      "image/png": "[encoded data removed]",
      "text/plain": [
       "<Figure size 648x216 with 1 Axes>"
      ]
     },
     "metadata": {
      "needs_background": "light"
     },
     "output_type": "display_data"
    }
   ],
   "source": [
    "# draw the result of the last run\n",
    "burn_steps = 0\n",
    "stop_step  = 500\n",
    "\n",
    "plt.figure(figsize=(9, 3))\n",
    "plt.plot( np.log10( model1.obj_list[burn_steps:stop_step] ), label = model1.method)\n",
    "plt.plot( np.log10( model2.obj_list[burn_steps:stop_step] ), label = model2.method)\n",
    "plt.plot( np.log10( model3.obj_list[burn_steps:stop_step] ), label = model3.method)\n",
    "plt.plot( np.log10( model4.obj_list[burn_steps:stop_step] ), label = model4.method)\n",
    "plt.legend(loc='best')"
   ]
  },
  {
   "cell_type": "code",
   "execution_count": 18,
   "metadata": {},
   "outputs": [
    {
     "data": {
      "text/plain": [
       "'Nesterov’s optimal method'"
      ]
     },
     "execution_count": 18,
     "metadata": {},
     "output_type": "execute_result"
    }
   ],
   "source": [
    "model3.method"
   ]
  },
  {
   "cell_type": "code",
   "execution_count": null,
   "metadata": {},
   "outputs": [],
   "source": []
  }
 ],
 "metadata": {
  "kernelspec": {
   "display_name": "Python 3",
   "language": "python",
   "name": "python3"
  },
  "language_info": {
   "codemirror_mode": {
    "name": "ipython",
    "version": 3
   },
   "file_extension": ".py",
   "mimetype": "text/x-python",
   "name": "python",
   "nbconvert_exporter": "python",
   "pygments_lexer": "ipython3",
   "version": "3.8.3"
  }
 },
 "nbformat": 4,
 "nbformat_minor": 4
}
