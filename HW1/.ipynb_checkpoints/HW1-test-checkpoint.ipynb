{
 "cells": [
  {
   "cell_type": "code",
   "execution_count": 130,
   "metadata": {},
   "outputs": [
    {
     "data": {
      "text/plain": [
       "<module 'objective_function' from '/Users/jingyuanwang/GitHub/IEMS450_HW/HW1/functions/objective_function.py'>"
      ]
     },
     "execution_count": 130,
     "metadata": {},
     "output_type": "execute_result"
    }
   ],
   "source": [
    "import numpy as np\n",
    "import os,sys,inspect\n",
    "import importlib\n",
    "\n",
    "randseed = 13344\n",
    "\n",
    "# import my functions:\n",
    "dirpath = os.getcwd()\n",
    "i = 0\n",
    "while(os.path.basename(dirpath) != \"IEMS450_HW\") and i <10:\n",
    "    dirpath = os.path.dirname(dirpath) \n",
    "    i = i + 1\n",
    "targetdir = dirpath + '/HW1/functions'\n",
    "if targetdir not in sys.path:\n",
    "    sys.path.insert(0,targetdir)\n",
    "\n",
    "import objective_function as obj\n",
    "importlib.reload(obj)"
   ]
  },
  {
   "cell_type": "markdown",
   "metadata": {},
   "source": [
    "# Initialize"
   ]
  },
  {
   "cell_type": "code",
   "execution_count": 131,
   "metadata": {},
   "outputs": [],
   "source": [
    "# set up the problem\n",
    "np.random.seed(randseed)\n",
    "m, L = 0.01, 1\n",
    "D = 10 ** np.random.rand(100)\n",
    "D = (D - np.min(D)) / (np.max(D) - np.min(D)) \n",
    "A = np.diag(m + D * (L - m))\n",
    "\n",
    "# save the function\n",
    "f = obj.f(A)"
   ]
  },
  {
   "cell_type": "markdown",
   "metadata": {},
   "source": [
    "# optimization"
   ]
  },
  {
   "cell_type": "code",
   "execution_count": 132,
   "metadata": {},
   "outputs": [],
   "source": [
    "# starting point\n",
    "x0 = np.random.rand(100)"
   ]
  },
  {
   "cell_type": "code",
   "execution_count": 140,
   "metadata": {},
   "outputs": [],
   "source": [
    "import opt_quadraticfunc as opt_q\n",
    "importlib.reload(opt_q)\n",
    "\n",
    "model1 = opt_q.steepest_descent(f, method = 'constant step length', alpha=1/(f.L), print_every_n_step=20)\n",
    "model2 = opt_q.steepest_descent(f, method = 'exact line search'   , print_every_n_step=20)\n",
    "model3 = opt_q.steepest_descent(f, method = 'Nesterov’s optimal method', print_every_n_step=20)\n",
    "model4 = opt_q.steepest_descent(f, method = 'heavy-ball' , print_every_n_step=20)"
   ]
  },
  {
   "cell_type": "code",
   "execution_count": 141,
   "metadata": {
    "scrolled": false
   },
   "outputs": [
    {
     "name": "stdout",
     "output_type": "stream",
     "text": [
      "======================================\n",
      "constant step length:\n",
      "iter    0: obj = 1.146706E+01, improve = 9.987533E+03\n",
      "iter   20: obj = 6.431531E-02, improve = 6.163921E-03\n",
      "iter   40: obj = 1.576407E-02, improve = 9.080655E-04\n",
      "iter   60: obj = 6.157912E-03, improve = 2.561968E-04\n",
      "iter   80: obj = 2.968479E-03, improve = 1.006505E-04\n",
      "iter  100: obj = 1.598455E-03, improve = 4.723438E-05\n",
      "iter  120: obj = 9.194903E-04, improve = 2.469446E-05\n",
      "iter  140: obj = 5.515645E-04, improve = 1.385305E-05\n",
      "iter  160: obj = 3.401214E-04, improve = 8.146344E-06\n",
      "iter  180: obj = 2.137171E-04, improve = 4.946437E-06\n",
      "iter  200: obj = 1.360823E-04, improve = 3.070976E-06\n",
      "iter  220: obj = 8.748978E-05, improve = 1.937018E-06\n",
      "iter  240: obj = 5.665766E-05, improve = 1.236002E-06\n",
      "iter  260: obj = 3.689623E-05, improve = 7.955731E-07\n",
      "iter  280: obj = 2.413302E-05, improve = 5.155189E-07\n",
      "iter  300: obj = 1.584054E-05, improve = 3.358067E-07\n",
      "iter  320: obj = 1.042733E-05, improve = 2.196634E-07\n",
      "iter  340: obj = 6.880226E-06, improve = 1.441808E-07\n",
      "iter  360: obj = 4.548699E-06, improve = 9.490203E-08\n",
      "iter  380: obj = 3.012241E-06, improve = 6.261184E-08\n",
      "iter  400: obj = 1.997558E-06, improve = 4.138916E-08\n",
      "iter  420: obj = 1.326249E-06, improve = 2.740525E-08\n",
      "======================================\n",
      "complete iter  434: obj = 9.962749E-07\n",
      "======================================\n",
      "\n",
      "\n",
      "======================================\n",
      "exact line search:\n",
      "iter    0: obj = 1.146706E+01, improve = 9.987533E+03\n",
      "iter   20: obj = 1.773998E-02, improve = 2.190355E-03\n",
      "iter   40: obj = 3.212968E-03, improve = 2.268485E-04\n",
      "iter   60: obj = 9.767888E-04, improve = 5.403491E-05\n",
      "iter   80: obj = 3.568216E-04, improve = 1.752514E-05\n",
      "iter  100: obj = 1.412650E-04, improve = 6.526356E-06\n",
      "iter  120: obj = 5.823502E-05, improve = 2.599121E-06\n",
      "iter  140: obj = 2.456563E-05, improve = 1.073313E-06\n",
      "iter  160: obj = 1.051273E-05, improve = 4.529151E-07\n",
      "iter  180: obj = 4.542183E-06, improve = 1.937995E-07\n",
      "iter  200: obj = 1.975644E-06, improve = 8.371349E-08\n",
      "======================================\n",
      "complete iter  217: obj = 9.773226E-07\n",
      "======================================\n",
      "\n",
      "\n",
      "======================================\n",
      "Nesterov’s optimal method:\n",
      "iter    0: obj = 1.146706E+01, improve = 9.987533E+03\n",
      "iter   20: obj = 4.456066E-03, improve = 1.005148E-03\n",
      "iter   40: obj = 2.163538E-04, improve = 1.623675E-05\n",
      "iter   60: obj = 5.687283E-05, improve = 5.740493E-06\n",
      "iter   80: obj = 2.208128E-05, improve = 8.968696E-07\n",
      "iter  100: obj = 4.318592E-06, improve = 5.527457E-07\n",
      "iter  120: obj = 3.462140E-06, improve = 3.517251E-07\n",
      "======================================\n",
      "complete iter  134: obj = 9.877959E-07\n",
      "======================================\n",
      "\n",
      "\n",
      "======================================\n",
      "heavy-ball:\n",
      "iter    0: obj = 1.146706E+01, improve = 9.987533E+03\n",
      "step larger than 1/L\n",
      "step larger than 1/L\n",
      "step larger than 1/L\n",
      "step larger than 1/L\n",
      "step larger than 1/L\n",
      "step larger than 1/L\n",
      "step larger than 1/L\n",
      "step larger than 1/L\n",
      "step larger than 1/L\n",
      "step larger than 1/L\n",
      "step larger than 1/L\n",
      "step larger than 1/L\n",
      "step larger than 1/L\n",
      "step larger than 1/L\n",
      "step larger than 1/L\n",
      "step larger than 1/L\n",
      "step larger than 1/L\n",
      "step larger than 1/L\n",
      "step larger than 1/L\n",
      "step larger than 1/L\n",
      "iter   20: obj = 2.522164E-03, improve = 3.741952E-04\n",
      "step larger than 1/L\n",
      "step larger than 1/L\n",
      "step larger than 1/L\n",
      "step larger than 1/L\n",
      "step larger than 1/L\n",
      "step larger than 1/L\n",
      "step larger than 1/L\n",
      "step larger than 1/L\n",
      "step larger than 1/L\n",
      "step larger than 1/L\n",
      "step larger than 1/L\n",
      "step larger than 1/L\n",
      "step larger than 1/L\n",
      "step larger than 1/L\n",
      "step larger than 1/L\n",
      "step larger than 1/L\n",
      "step larger than 1/L\n",
      "step larger than 1/L\n",
      "step larger than 1/L\n",
      "step larger than 1/L\n",
      "iter   40: obj = 2.840985E-04, improve = 2.911613E-05\n",
      "step larger than 1/L\n",
      "step larger than 1/L\n",
      "step larger than 1/L\n",
      "step larger than 1/L\n",
      "step larger than 1/L\n",
      "step larger than 1/L\n",
      "step larger than 1/L\n",
      "step larger than 1/L\n",
      "step larger than 1/L\n",
      "step larger than 1/L\n",
      "step larger than 1/L\n",
      "step larger than 1/L\n",
      "step larger than 1/L\n",
      "step larger than 1/L\n",
      "step larger than 1/L\n",
      "step larger than 1/L\n",
      "step larger than 1/L\n",
      "step larger than 1/L\n",
      "step larger than 1/L\n",
      "step larger than 1/L\n",
      "iter   60: obj = 4.411309E-05, improve = 4.175445E-06\n",
      "step larger than 1/L\n",
      "step larger than 1/L\n",
      "step larger than 1/L\n",
      "step larger than 1/L\n",
      "step larger than 1/L\n",
      "step larger than 1/L\n",
      "step larger than 1/L\n",
      "step larger than 1/L\n",
      "step larger than 1/L\n",
      "step larger than 1/L\n",
      "step larger than 1/L\n",
      "step larger than 1/L\n",
      "step larger than 1/L\n",
      "step larger than 1/L\n",
      "step larger than 1/L\n",
      "step larger than 1/L\n",
      "step larger than 1/L\n",
      "step larger than 1/L\n",
      "step larger than 1/L\n",
      "step larger than 1/L\n",
      "iter   80: obj = 7.452510E-06, improve = 6.844790E-07\n",
      "step larger than 1/L\n",
      "step larger than 1/L\n",
      "step larger than 1/L\n",
      "step larger than 1/L\n",
      "step larger than 1/L\n",
      "step larger than 1/L\n",
      "step larger than 1/L\n",
      "step larger than 1/L\n",
      "step larger than 1/L\n",
      "step larger than 1/L\n",
      "step larger than 1/L\n",
      "step larger than 1/L\n",
      "step larger than 1/L\n",
      "step larger than 1/L\n",
      "step larger than 1/L\n",
      "step larger than 1/L\n",
      "step larger than 1/L\n",
      "step larger than 1/L\n",
      "step larger than 1/L\n",
      "step larger than 1/L\n",
      "iter  100: obj = 1.303325E-06, improve = 1.180309E-07\n",
      "step larger than 1/L\n",
      "step larger than 1/L\n",
      "step larger than 1/L\n",
      "step larger than 1/L\n",
      "step larger than 1/L\n",
      "======================================\n",
      "complete iter  104: obj = 9.217627E-07\n",
      "======================================\n",
      "\n",
      "\n"
     ]
    }
   ],
   "source": [
    "x1 = model1.run(x0)\n",
    "x2 = model2.run(x0)\n",
    "x3 = model3.run(x0)\n",
    "x4 = model4.run(x0)"
   ]
  },
  {
   "cell_type": "markdown",
   "metadata": {},
   "source": [
    "## check scipy"
   ]
  },
  {
   "cell_type": "code",
   "execution_count": 142,
   "metadata": {},
   "outputs": [],
   "source": [
    "import scipy.optimize as opt"
   ]
  },
  {
   "cell_type": "code",
   "execution_count": 145,
   "metadata": {
    "scrolled": true
   },
   "outputs": [
    {
     "data": {
      "text/plain": [
       "     fun: 1.533178228775214e-14\n",
       "     jac: array([-1.81703592e-09, -2.92767500e-08, -2.11677053e-08,  3.68500997e-08,\n",
       "        5.24844896e-09, -8.01323570e-08, -3.38024929e-08,  3.54369763e-08,\n",
       "        8.43143798e-08,  5.74929290e-09,  5.29057873e-09,  4.66928826e-08,\n",
       "       -9.53079295e-10, -1.15089140e-07,  1.80227721e-07,  3.31493082e-08,\n",
       "        1.41881772e-08,  1.44703172e-09, -1.22220731e-09,  3.84597030e-08,\n",
       "       -6.16770418e-10,  1.62269619e-08, -2.33685369e-08,  5.69969753e-08,\n",
       "       -6.48014810e-08, -5.75393912e-08,  2.20405201e-08, -9.87080164e-08,\n",
       "       -7.20509913e-08, -1.53951969e-08,  2.07005597e-09, -4.16601560e-08,\n",
       "       -1.94086195e-08, -1.86216390e-08,  1.48127774e-08, -7.16126162e-09,\n",
       "        6.84115072e-08, -2.98280127e-09, -1.90053303e-08,  2.13020306e-10,\n",
       "        7.35403484e-08, -1.21323852e-08, -5.58794347e-08, -8.24891417e-09,\n",
       "        5.43967999e-08,  4.40852844e-08, -1.99042072e-08,  2.20078143e-10,\n",
       "       -1.49682005e-08,  3.58680645e-09,  1.84021271e-08, -9.56962955e-13,\n",
       "       -1.11182606e-09, -7.23650885e-08, -1.24867937e-07, -5.40821017e-09,\n",
       "        3.86015821e-09,  4.56939063e-09, -3.83664480e-10, -8.71734722e-08,\n",
       "       -9.61238721e-09,  1.74552740e-08,  4.00808180e-09,  2.41868095e-08,\n",
       "        2.08219291e-08, -2.60786355e-08,  4.85269712e-09, -1.12177460e-07,\n",
       "       -1.22519950e-09,  1.52552631e-07, -2.57414429e-08,  5.13136876e-08,\n",
       "        1.86440529e-09,  2.16847481e-08,  1.79749295e-09, -1.98546862e-08,\n",
       "        1.17307672e-08, -4.26797216e-08,  1.07691939e-07, -2.01900955e-08,\n",
       "       -2.69200812e-09, -4.43071684e-08,  1.25620609e-08, -2.08430027e-08,\n",
       "        5.12830529e-08, -5.34599915e-08,  2.88130847e-09,  4.07422799e-08,\n",
       "       -1.50714404e-09,  5.08443019e-10, -5.49659316e-09,  2.04468687e-09,\n",
       "       -6.10118375e-09, -1.67509424e-09, -3.04788884e-08,  2.38549219e-08,\n",
       "        1.49285290e-09, -5.73121826e-08, -2.99852244e-08, -2.07875780e-09])\n",
       " message: 'Optimization terminated successfully.'\n",
       "    nfev: 11\n",
       "    nhev: 10\n",
       "     nit: 10\n",
       "    njev: 11\n",
       "  status: 0\n",
       " success: True\n",
       "       x: array([ 5.12752042e-10,  1.02440504e-08, -1.45418881e-08,  7.98712916e-08,\n",
       "        8.37041581e-09, -3.02327340e-08,  3.36987364e-09,  6.42217037e-10,\n",
       "       -5.72772382e-10,  3.27183556e-10,  5.67174620e-09, -4.11563960e-09,\n",
       "       -4.52627454e-09,  1.48754220e-09, -6.07007616e-09,  4.53637525e-08,\n",
       "        1.19211036e-08, -8.95184925e-09, -4.54119636e-10, -3.29068746e-09,\n",
       "       -1.16804473e-12, -4.14597409e-09,  1.13926209e-08,  7.75958183e-07,\n",
       "        2.74857391e-09,  7.33211360e-09, -1.42019908e-07,  7.85659904e-08,\n",
       "       -8.19073655e-09,  6.58398100e-09,  1.80333920e-09,  1.26584214e-08,\n",
       "       -4.12284122e-08,  5.63186412e-09,  2.80252293e-08,  3.28908668e-08,\n",
       "        3.25479826e-08,  8.76593046e-10, -4.64519906e-09,  2.01151907e-10,\n",
       "        1.58118516e-07,  3.62869761e-09,  1.60918116e-08, -2.87318418e-09,\n",
       "        1.15874768e-07,  1.31360316e-10,  6.18734235e-09,  1.87256284e-10,\n",
       "        2.57702006e-09,  1.69902199e-09, -6.36588811e-10, -4.41397294e-13,\n",
       "        6.96476888e-09,  2.34391031e-08,  8.01054318e-08,  8.58634207e-10,\n",
       "        3.36270245e-09,  1.54481841e-09, -1.43504634e-10,  2.35193389e-07,\n",
       "        2.50140923e-09, -1.41117135e-09, -4.07757661e-09,  1.74886513e-09,\n",
       "       -2.00991410e-09, -1.98718862e-08,  1.48475325e-09,  4.73065803e-09,\n",
       "       -4.36807905e-10,  1.34067083e-08,  5.74040968e-09, -4.10481815e-09,\n",
       "       -6.39102994e-10,  1.04222549e-08,  1.76622604e-10, -1.50144111e-08,\n",
       "       -6.40081744e-09,  1.39243157e-08, -6.36932636e-09,  1.17817981e-07,\n",
       "       -3.15414388e-10,  6.94013182e-09,  9.67906576e-10, -1.40301089e-08,\n",
       "        1.39951674e-09,  1.36837083e-08,  3.20788419e-09,  9.10651123e-09,\n",
       "       -3.34082161e-10,  2.17867793e-10, -2.07502908e-09,  1.28885540e-10,\n",
       "       -9.09004849e-09, -3.13938442e-10, -3.75451146e-08,  6.37967270e-09,\n",
       "        5.10709511e-10,  1.61670576e-07,  1.66849670e-08,  2.86446887e-10])"
      ]
     },
     "execution_count": 145,
     "metadata": {},
     "output_type": "execute_result"
    }
   ],
   "source": [
    "#opt.minimize(f.value, x0, jac=f.der_1st, hess=f.der_2nd, method = 'Newton-CG')"
   ]
  },
  {
   "cell_type": "markdown",
   "metadata": {},
   "source": [
    "# Plot"
   ]
  },
  {
   "cell_type": "code",
   "execution_count": 146,
   "metadata": {},
   "outputs": [],
   "source": [
    "import matplotlib.pyplot as plt"
   ]
  },
  {
   "cell_type": "code",
   "execution_count": 162,
   "metadata": {},
   "outputs": [
    {
     "data": {
      "text/plain": [
       "<matplotlib.legend.Legend at 0x7fe6aef7a520>"
      ]
     },
     "execution_count": 162,
     "metadata": {},
     "output_type": "execute_result"
    },
    {
     "data": {
      "image/png": "[encoded data removed]",
      "text/plain": [
       "<Figure size 648x216 with 1 Axes>"
      ]
     },
     "metadata": {
      "needs_background": "light"
     },
     "output_type": "display_data"
    }
   ],
   "source": [
    "\n",
    "burn_steps = 5\n",
    "stop_step  = 100\n",
    "\n",
    "plt.figure(figsize=(9, 3))\n",
    "plt.plot(model1.obj_list[burn_steps:stop_step], label = model1.method)\n",
    "plt.plot(model2.obj_list[burn_steps:stop_step], label = model2.method)\n",
    "plt.plot(model3.obj_list[burn_steps:stop_step], label = model3.method)\n",
    "plt.plot(model4.obj_list[burn_steps:stop_step], label = model4.method)\n",
    "plt.legend(loc='best')"
   ]
  },
  {
   "cell_type": "code",
   "execution_count": null,
   "metadata": {},
   "outputs": [],
   "source": []
  }
 ],
 "metadata": {
  "kernelspec": {
   "display_name": "Python 3",
   "language": "python",
   "name": "python3"
  },
  "language_info": {
   "codemirror_mode": {
    "name": "ipython",
    "version": 3
   },
   "file_extension": ".py",
   "mimetype": "text/x-python",
   "name": "python",
   "nbconvert_exporter": "python",
   "pygments_lexer": "ipython3",
   "version": "3.8.3"
  }
 },
 "nbformat": 4,
 "nbformat_minor": 4
}
